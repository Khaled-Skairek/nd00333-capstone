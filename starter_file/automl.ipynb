{
  "cells": [
    {
      "cell_type": "markdown",
      "source": [
        "# Automated ML\n",
        "\n",
        "TODO: Import Dependencies. In the cell below, import all the dependencies that you will need to complete the project."
      ],
      "metadata": {}
    },
    {
      "cell_type": "code",
      "source": [
        "from azureml.core import Workspace, Experiment, Dataset\n",
        "from azureml.train.automl import AutoMLConfig\n",
        "from azureml.widgets import RunDetails\n",
        "import joblib"
      ],
      "outputs": [],
      "execution_count": 1,
      "metadata": {
        "gather": {
          "logged": 1618644843765
        },
        "jupyter": {
          "outputs_hidden": false,
          "source_hidden": false
        },
        "nteract": {
          "transient": {
            "deleting": false
          }
        }
      }
    },
    {
      "cell_type": "markdown",
      "source": [
        "## Dataset\n",
        "\n",
        "The dataset used is the heart failure prediction dataset available at Kaggle.com.\n",
        "Each entry of the dataset conatins information (features) about individual. The task is binary classification; to predict if individual is going to have heart failure or not."
      ],
      "metadata": {}
    },
    {
      "cell_type": "code",
      "source": [
        "ws = Workspace.from_config()\n",
        "experiment_name = 'AutoML_experiment'\n",
        "experiment = Experiment(ws, experiment_name)"
      ],
      "outputs": [
        {
          "output_type": "stream",
          "name": "stdout",
          "text": [
            "Performing interactive authentication. Please follow the instructions on the terminal.\n",
            "To sign in, use a web browser to open the page https://microsoft.com/devicelogin and enter the code R8RNVEQRL to authenticate.\n",
            "You have logged in. Now let us find all the subscriptions to which you have access...\n",
            "Interactive authentication successfully completed.\n"
          ]
        }
      ],
      "execution_count": 2,
      "metadata": {
        "gather": {
          "logged": 1618645396830
        },
        "jupyter": {
          "outputs_hidden": false,
          "source_hidden": false
        },
        "nteract": {
          "transient": {
            "deleting": false
          }
        }
      }
    },
    {
      "cell_type": "code",
      "source": [
        "from azureml.core.compute import ComputeTarget, AmlCompute\n",
        "\n",
        "# TODO: Create compute cluster\n",
        "# Use vm_size = \"Standard_D2_V2\" in your provisioning configuration.\n",
        "# max_nodes should be no greater than 4.\n",
        "\n",
        "from azureml.core.compute_target import ComputeTargetException \n",
        "\n",
        "# Choose a name for your CPU cluster \n",
        "cpu_cluster_name = \"my-cluster\"\n",
        "\n",
        "# Verify that cluster does not exist already \n",
        "try: \n",
        "    cpu_cluster = ComputeTarget(workspace=ws, name=cpu_cluster_name)\n",
        "    print('Found existing cluster, use it.') \n",
        "except ComputeTargetException: \n",
        "    compute_config = AmlCompute.provisioning_configuration(vm_size='STANDARD_D2_V2', \n",
        "                                                           max_nodes=4) \n",
        "    cpu_cluster = ComputeTarget.create(ws, cpu_cluster_name, compute_config) \n",
        "\n",
        "cpu_cluster.wait_for_completion(show_output=True)"
      ],
      "outputs": [
        {
          "output_type": "stream",
          "name": "stdout",
          "text": [
            "Creating...\n",
            "SucceededProvisioning operation finished, operation \"Succeeded\"\n",
            "Succeeded\n",
            "AmlCompute wait for completion finished\n",
            "\n",
            "Minimum number of nodes requested have been provisioned\n"
          ]
        }
      ],
      "execution_count": 3,
      "metadata": {
        "gather": {
          "logged": 1618645415561
        }
      }
    },
    {
      "cell_type": "code",
      "source": [
        "dataset = Dataset.get_by_name(ws, name='Heart-failure-prediction') \n",
        "dataset.to_pandas_dataframe() "
      ],
      "outputs": [
        {
          "output_type": "execute_result",
          "execution_count": 4,
          "data": {
            "text/plain": "      age  anaemia  creatinine_phosphokinase  diabetes  ejection_fraction  \\\n0    75.0        0                       582         0                 20   \n1    55.0        0                      7861         0                 38   \n2    65.0        0                       146         0                 20   \n3    50.0        1                       111         0                 20   \n4    65.0        1                       160         1                 20   \n..    ...      ...                       ...       ...                ...   \n294  62.0        0                        61         1                 38   \n295  55.0        0                      1820         0                 38   \n296  45.0        0                      2060         1                 60   \n297  45.0        0                      2413         0                 38   \n298  50.0        0                       196         0                 45   \n\n     high_blood_pressure  platelets  serum_creatinine  serum_sodium  sex  \\\n0                      1  265000.00               1.9           130    1   \n1                      0  263358.03               1.1           136    1   \n2                      0  162000.00               1.3           129    1   \n3                      0  210000.00               1.9           137    1   \n4                      0  327000.00               2.7           116    0   \n..                   ...        ...               ...           ...  ...   \n294                    1  155000.00               1.1           143    1   \n295                    0  270000.00               1.2           139    0   \n296                    0  742000.00               0.8           138    0   \n297                    0  140000.00               1.4           140    1   \n298                    0  395000.00               1.6           136    1   \n\n     smoking  time  DEATH_EVENT  \n0          0     4            1  \n1          0     6            1  \n2          1     7            1  \n3          0     7            1  \n4          0     8            1  \n..       ...   ...          ...  \n294        1   270            0  \n295        0   271            0  \n296        0   278            0  \n297        1   280            0  \n298        1   285            0  \n\n[299 rows x 13 columns]",
            "text/html": "<div>\n<style scoped>\n    .dataframe tbody tr th:only-of-type {\n        vertical-align: middle;\n    }\n\n    .dataframe tbody tr th {\n        vertical-align: top;\n    }\n\n    .dataframe thead th {\n        text-align: right;\n    }\n</style>\n<table border=\"1\" class=\"dataframe\">\n  <thead>\n    <tr style=\"text-align: right;\">\n      <th></th>\n      <th>age</th>\n      <th>anaemia</th>\n      <th>creatinine_phosphokinase</th>\n      <th>diabetes</th>\n      <th>ejection_fraction</th>\n      <th>high_blood_pressure</th>\n      <th>platelets</th>\n      <th>serum_creatinine</th>\n      <th>serum_sodium</th>\n      <th>sex</th>\n      <th>smoking</th>\n      <th>time</th>\n      <th>DEATH_EVENT</th>\n    </tr>\n  </thead>\n  <tbody>\n    <tr>\n      <th>0</th>\n      <td>75.0</td>\n      <td>0</td>\n      <td>582</td>\n      <td>0</td>\n      <td>20</td>\n      <td>1</td>\n      <td>265000.00</td>\n      <td>1.9</td>\n      <td>130</td>\n      <td>1</td>\n      <td>0</td>\n      <td>4</td>\n      <td>1</td>\n    </tr>\n    <tr>\n      <th>1</th>\n      <td>55.0</td>\n      <td>0</td>\n      <td>7861</td>\n      <td>0</td>\n      <td>38</td>\n      <td>0</td>\n      <td>263358.03</td>\n      <td>1.1</td>\n      <td>136</td>\n      <td>1</td>\n      <td>0</td>\n      <td>6</td>\n      <td>1</td>\n    </tr>\n    <tr>\n      <th>2</th>\n      <td>65.0</td>\n      <td>0</td>\n      <td>146</td>\n      <td>0</td>\n      <td>20</td>\n      <td>0</td>\n      <td>162000.00</td>\n      <td>1.3</td>\n      <td>129</td>\n      <td>1</td>\n      <td>1</td>\n      <td>7</td>\n      <td>1</td>\n    </tr>\n    <tr>\n      <th>3</th>\n      <td>50.0</td>\n      <td>1</td>\n      <td>111</td>\n      <td>0</td>\n      <td>20</td>\n      <td>0</td>\n      <td>210000.00</td>\n      <td>1.9</td>\n      <td>137</td>\n      <td>1</td>\n      <td>0</td>\n      <td>7</td>\n      <td>1</td>\n    </tr>\n    <tr>\n      <th>4</th>\n      <td>65.0</td>\n      <td>1</td>\n      <td>160</td>\n      <td>1</td>\n      <td>20</td>\n      <td>0</td>\n      <td>327000.00</td>\n      <td>2.7</td>\n      <td>116</td>\n      <td>0</td>\n      <td>0</td>\n      <td>8</td>\n      <td>1</td>\n    </tr>\n    <tr>\n      <th>...</th>\n      <td>...</td>\n      <td>...</td>\n      <td>...</td>\n      <td>...</td>\n      <td>...</td>\n      <td>...</td>\n      <td>...</td>\n      <td>...</td>\n      <td>...</td>\n      <td>...</td>\n      <td>...</td>\n      <td>...</td>\n      <td>...</td>\n    </tr>\n    <tr>\n      <th>294</th>\n      <td>62.0</td>\n      <td>0</td>\n      <td>61</td>\n      <td>1</td>\n      <td>38</td>\n      <td>1</td>\n      <td>155000.00</td>\n      <td>1.1</td>\n      <td>143</td>\n      <td>1</td>\n      <td>1</td>\n      <td>270</td>\n      <td>0</td>\n    </tr>\n    <tr>\n      <th>295</th>\n      <td>55.0</td>\n      <td>0</td>\n      <td>1820</td>\n      <td>0</td>\n      <td>38</td>\n      <td>0</td>\n      <td>270000.00</td>\n      <td>1.2</td>\n      <td>139</td>\n      <td>0</td>\n      <td>0</td>\n      <td>271</td>\n      <td>0</td>\n    </tr>\n    <tr>\n      <th>296</th>\n      <td>45.0</td>\n      <td>0</td>\n      <td>2060</td>\n      <td>1</td>\n      <td>60</td>\n      <td>0</td>\n      <td>742000.00</td>\n      <td>0.8</td>\n      <td>138</td>\n      <td>0</td>\n      <td>0</td>\n      <td>278</td>\n      <td>0</td>\n    </tr>\n    <tr>\n      <th>297</th>\n      <td>45.0</td>\n      <td>0</td>\n      <td>2413</td>\n      <td>0</td>\n      <td>38</td>\n      <td>0</td>\n      <td>140000.00</td>\n      <td>1.4</td>\n      <td>140</td>\n      <td>1</td>\n      <td>1</td>\n      <td>280</td>\n      <td>0</td>\n    </tr>\n    <tr>\n      <th>298</th>\n      <td>50.0</td>\n      <td>0</td>\n      <td>196</td>\n      <td>0</td>\n      <td>45</td>\n      <td>0</td>\n      <td>395000.00</td>\n      <td>1.6</td>\n      <td>136</td>\n      <td>1</td>\n      <td>1</td>\n      <td>285</td>\n      <td>0</td>\n    </tr>\n  </tbody>\n</table>\n<p>299 rows × 13 columns</p>\n</div>"
          },
          "metadata": {}
        }
      ],
      "execution_count": 4,
      "metadata": {
        "gather": {
          "logged": 1618645448920
        }
      }
    },
    {
      "cell_type": "markdown",
      "source": [
        "## AutoML Configuration\n",
        "\n",
        "### AutoMLSettings\n",
        "Due to the available resources (time and space), the auto ml is limited with timeout and maximum allowed parallel computations. The used metric for post-thresholding is  AUC_weighted which optimizes better for small datasets.\n",
        "\n",
        "### AutoMLConfig\n",
        "Since the task is classification, we need to provide the type, the dataset, and the labeled column (DEATH_EVENT). Early stopping is enabled to save time as well."
      ],
      "metadata": {}
    },
    {
      "cell_type": "code",
      "source": [
        "automl_settings = {\n",
        "    \"experiment_timeout_minutes\": 20, \n",
        "    \"max_concurrent_iterations\": 5, \n",
        "    \"primary_metric\" : 'AUC_weighted' \n",
        "}\n",
        "\n",
        "automl_config = AutoMLConfig(task=\"classification\", \n",
        "                             training_data=dataset,\n",
        "                             compute_target=cpu_cluster, \n",
        "                             label_column_name=\"DEATH_EVENT\",    \n",
        "                             path=\".\", \n",
        "                             enable_early_stopping=True, \n",
        "                             featurization='auto', \n",
        "                             debug_log=\"automl_errors.log\", \n",
        "                             **automl_settings)"
      ],
      "outputs": [],
      "execution_count": 5,
      "metadata": {
        "gather": {
          "logged": 1618645453806
        },
        "jupyter": {
          "outputs_hidden": false,
          "source_hidden": false
        },
        "nteract": {
          "transient": {
            "deleting": false
          }
        }
      }
    },
    {
      "cell_type": "code",
      "source": [
        "# Submit experiment\n",
        "remote_run = experiment.submit(automl_config)"
      ],
      "outputs": [
        {
          "output_type": "stream",
          "name": "stdout",
          "text": [
            "Submitting remote run.\n"
          ]
        },
        {
          "output_type": "display_data",
          "data": {
            "text/plain": "<IPython.core.display.HTML object>",
            "text/html": "<table style=\"width:100%\"><tr><th>Experiment</th><th>Id</th><th>Type</th><th>Status</th><th>Details Page</th><th>Docs Page</th></tr><tr><td>AutoML_experiment</td><td>AutoML_27cfb90e-112a-4c73-81d0-d49a4d9e1b6e</td><td>automl</td><td>NotStarted</td><td><a href=\"https://ml.azure.com/runs/AutoML_27cfb90e-112a-4c73-81d0-d49a4d9e1b6e?wsid=/subscriptions/d4ad7261-832d-46b2-b093-22156001df5b/resourcegroups/aml-quickstarts-142911/workspaces/quick-starts-ws-142911&amp;tid=660b3398-b80e-49d2-bc5b-ac1dc93b5254\" target=\"_blank\" rel=\"noopener\">Link to Azure Machine Learning studio</a></td><td><a href=\"https://docs.microsoft.com/en-us/python/api/overview/azure/ml/intro?view=azure-ml-py\" target=\"_blank\" rel=\"noopener\">Link to Documentation</a></td></tr></table>"
          },
          "metadata": {}
        }
      ],
      "execution_count": 6,
      "metadata": {
        "gather": {
          "logged": 1618645468192
        },
        "jupyter": {
          "outputs_hidden": false,
          "source_hidden": false
        },
        "nteract": {
          "transient": {
            "deleting": false
          }
        }
      }
    },
    {
      "cell_type": "markdown",
      "source": [
        "## Run Details\n"
      ],
      "metadata": {}
    },
    {
      "cell_type": "code",
      "source": [
        "RunDetails(remote_run).show() "
      ],
      "outputs": [
        {
          "output_type": "display_data",
          "data": {
            "text/plain": "_AutoMLWidget(widget_settings={'childWidgetDisplay': 'popup', 'send_telemetry': False, 'log_level': 'INFO', 's…",
            "application/vnd.jupyter.widget-view+json": {
              "version_major": 2,
              "version_minor": 0,
              "model_id": "105e390510a841cb927954069db0105d"
            }
          },
          "metadata": {}
        },
        {
          "output_type": "display_data",
          "data": {
            "application/aml.mini.widget.v1": "{\"status\": \"Completed\", \"workbench_run_details_uri\": \"https://ml.azure.com/runs/AutoML_27cfb90e-112a-4c73-81d0-d49a4d9e1b6e?wsid=/subscriptions/d4ad7261-832d-46b2-b093-22156001df5b/resourcegroups/aml-quickstarts-142911/workspaces/quick-starts-ws-142911&tid=660b3398-b80e-49d2-bc5b-ac1dc93b5254\", \"run_id\": \"AutoML_27cfb90e-112a-4c73-81d0-d49a4d9e1b6e\", \"run_properties\": {\"run_id\": \"AutoML_27cfb90e-112a-4c73-81d0-d49a4d9e1b6e\", \"created_utc\": \"2021-04-17T07:44:26.068124Z\", \"properties\": {\"num_iterations\": \"1000\", \"training_type\": \"TrainFull\", \"acquisition_function\": \"EI\", \"primary_metric\": \"AUC_weighted\", \"train_split\": \"0\", \"acquisition_parameter\": \"0\", \"num_cross_validation\": null, \"target\": \"my-cluster\", \"AMLSettingsJsonString\": \"{\\\"path\\\":null,\\\"name\\\":\\\"AutoML_experiment\\\",\\\"subscription_id\\\":\\\"d4ad7261-832d-46b2-b093-22156001df5b\\\",\\\"resource_group\\\":\\\"aml-quickstarts-142911\\\",\\\"workspace_name\\\":\\\"quick-starts-ws-142911\\\",\\\"region\\\":\\\"southcentralus\\\",\\\"compute_target\\\":\\\"my-cluster\\\",\\\"spark_service\\\":null,\\\"azure_service\\\":\\\"remote\\\",\\\"many_models\\\":false,\\\"pipeline_fetch_max_batch_size\\\":1,\\\"enable_batch_run\\\":false,\\\"enable_run_restructure\\\":false,\\\"iterations\\\":1000,\\\"primary_metric\\\":\\\"AUC_weighted\\\",\\\"task_type\\\":\\\"classification\\\",\\\"data_script\\\":null,\\\"test_size\\\":0.0,\\\"validation_size\\\":0.0,\\\"n_cross_validations\\\":null,\\\"y_min\\\":null,\\\"y_max\\\":null,\\\"num_classes\\\":null,\\\"featurization\\\":\\\"auto\\\",\\\"_ignore_package_version_incompatibilities\\\":false,\\\"is_timeseries\\\":false,\\\"max_cores_per_iteration\\\":1,\\\"max_concurrent_iterations\\\":5,\\\"iteration_timeout_minutes\\\":null,\\\"mem_in_mb\\\":null,\\\"enforce_time_on_windows\\\":false,\\\"experiment_timeout_minutes\\\":20,\\\"experiment_exit_score\\\":null,\\\"whitelist_models\\\":null,\\\"blacklist_algos\\\":[\\\"TensorFlowLinearClassifier\\\",\\\"TensorFlowDNN\\\"],\\\"supported_models\\\":[\\\"MultinomialNaiveBayes\\\",\\\"LogisticRegression\\\",\\\"SVM\\\",\\\"TensorFlowDNN\\\",\\\"SGD\\\",\\\"GradientBoosting\\\",\\\"DecisionTree\\\",\\\"XGBoostClassifier\\\",\\\"BernoulliNaiveBayes\\\",\\\"ExtremeRandomTrees\\\",\\\"RandomForest\\\",\\\"LightGBM\\\",\\\"TensorFlowLinearClassifier\\\",\\\"LinearSVM\\\",\\\"AveragedPerceptronClassifier\\\",\\\"KNN\\\"],\\\"private_models\\\":[],\\\"auto_blacklist\\\":true,\\\"blacklist_samples_reached\\\":false,\\\"exclude_nan_labels\\\":true,\\\"verbosity\\\":20,\\\"_debug_log\\\":\\\"azureml_automl.log\\\",\\\"show_warnings\\\":false,\\\"model_explainability\\\":true,\\\"service_url\\\":null,\\\"sdk_url\\\":null,\\\"sdk_packages\\\":null,\\\"enable_onnx_compatible_models\\\":false,\\\"enable_split_onnx_featurizer_estimator_models\\\":false,\\\"vm_type\\\":\\\"STANDARD_D2_V2\\\",\\\"telemetry_verbosity\\\":20,\\\"send_telemetry\\\":true,\\\"enable_dnn\\\":false,\\\"scenario\\\":\\\"SDK-1.13.0\\\",\\\"environment_label\\\":null,\\\"save_mlflow\\\":false,\\\"force_text_dnn\\\":false,\\\"enable_feature_sweeping\\\":true,\\\"enable_early_stopping\\\":true,\\\"early_stopping_n_iters\\\":10,\\\"metrics\\\":null,\\\"enable_metric_confidence\\\":false,\\\"enable_ensembling\\\":true,\\\"enable_stack_ensembling\\\":true,\\\"ensemble_iterations\\\":15,\\\"enable_tf\\\":false,\\\"enable_subsampling\\\":null,\\\"subsample_seed\\\":null,\\\"enable_nimbusml\\\":false,\\\"enable_streaming\\\":false,\\\"force_streaming\\\":false,\\\"track_child_runs\\\":true,\\\"allowed_private_models\\\":[],\\\"label_column_name\\\":\\\"DEATH_EVENT\\\",\\\"weight_column_name\\\":null,\\\"cv_split_column_names\\\":null,\\\"enable_local_managed\\\":false,\\\"_local_managed_run_id\\\":null,\\\"cost_mode\\\":1,\\\"lag_length\\\":0,\\\"metric_operation\\\":\\\"maximize\\\",\\\"preprocess\\\":true}\", \"DataPrepJsonString\": \"{\\\\\\\"training_data\\\\\\\": {\\\\\\\"datasetId\\\\\\\": \\\\\\\"29e3124d-f97e-470a-be95-d2f4f1b33076\\\\\\\"}, \\\\\\\"datasets\\\\\\\": 0}\", \"EnableSubsampling\": null, \"runTemplate\": \"AutoML\", \"azureml.runsource\": \"automl\", \"display_task_type\": \"classification\", \"dependencies_versions\": \"{\\\"azureml-widgets\\\": \\\"1.26.0\\\", \\\"azureml-train\\\": \\\"1.26.0\\\", \\\"azureml-train-restclients-hyperdrive\\\": \\\"1.26.0\\\", \\\"azureml-train-core\\\": \\\"1.26.0\\\", \\\"azureml-train-automl\\\": \\\"1.26.0\\\", \\\"azureml-train-automl-runtime\\\": \\\"1.26.0\\\", \\\"azureml-train-automl-client\\\": \\\"1.26.0\\\", \\\"azureml-tensorboard\\\": \\\"1.26.0\\\", \\\"azureml-telemetry\\\": \\\"1.26.0\\\", \\\"azureml-sdk\\\": \\\"1.26.0\\\", \\\"azureml-samples\\\": \\\"0+unknown\\\", \\\"azureml-pipeline\\\": \\\"1.26.0\\\", \\\"azureml-pipeline-steps\\\": \\\"1.26.0\\\", \\\"azureml-pipeline-core\\\": \\\"1.26.0\\\", \\\"azureml-opendatasets\\\": \\\"1.26.0\\\", \\\"azureml-model-management-sdk\\\": \\\"1.0.1b6.post1\\\", \\\"azureml-mlflow\\\": \\\"1.26.0\\\", \\\"azureml-interpret\\\": \\\"1.26.0\\\", \\\"azureml-explain-model\\\": \\\"1.26.0\\\", \\\"azureml-defaults\\\": \\\"1.26.0\\\", \\\"azureml-dataset-runtime\\\": \\\"1.26.0\\\", \\\"azureml-dataprep\\\": \\\"2.13.2\\\", \\\"azureml-dataprep-rslex\\\": \\\"1.11.2\\\", \\\"azureml-dataprep-native\\\": \\\"32.0.0\\\", \\\"azureml-datadrift\\\": \\\"1.26.0\\\", \\\"azureml-core\\\": \\\"1.26.0\\\", \\\"azureml-contrib-services\\\": \\\"1.26.0\\\", \\\"azureml-contrib-server\\\": \\\"1.26.0\\\", \\\"azureml-contrib-reinforcementlearning\\\": \\\"1.26.0\\\", \\\"azureml-contrib-pipeline-steps\\\": \\\"1.26.0\\\", \\\"azureml-contrib-notebook\\\": \\\"1.26.0\\\", \\\"azureml-contrib-gbdt\\\": \\\"1.26.0\\\", \\\"azureml-contrib-fairness\\\": \\\"1.26.0\\\", \\\"azureml-contrib-dataset\\\": \\\"1.26.0\\\", \\\"azureml-cli-common\\\": \\\"1.26.0\\\", \\\"azureml-automl-runtime\\\": \\\"1.26.0\\\", \\\"azureml-automl-dnn-nlp\\\": \\\"1.26.0\\\", \\\"azureml-automl-core\\\": \\\"1.26.0\\\", \\\"azureml-accel-models\\\": \\\"1.26.0\\\"}\", \"_aml_system_scenario_identification\": \"Remote.Parent\", \"ClientType\": \"SDK\", \"environment_cpu_name\": \"AzureML-AutoML\", \"environment_cpu_label\": \"prod\", \"environment_gpu_name\": \"AzureML-AutoML-GPU\", \"environment_gpu_label\": \"prod\", \"root_attribution\": \"automl\", \"attribution\": \"AutoML\", \"Orchestrator\": \"AutoML\", \"CancelUri\": \"https://southcentralus.experiments.azureml.net/jasmine/v1.0/subscriptions/d4ad7261-832d-46b2-b093-22156001df5b/resourceGroups/aml-quickstarts-142911/providers/Microsoft.MachineLearningServices/workspaces/quick-starts-ws-142911/experimentids/7aaa458f-1dac-4951-8bd4-28a164df6c2b/cancel/AutoML_27cfb90e-112a-4c73-81d0-d49a4d9e1b6e\", \"ClientSdkVersion\": \"1.25.0\", \"snapshotId\": \"00000000-0000-0000-0000-000000000000\", \"SetupRunId\": \"AutoML_27cfb90e-112a-4c73-81d0-d49a4d9e1b6e_setup\", \"SetupRunContainerId\": \"dcid.AutoML_27cfb90e-112a-4c73-81d0-d49a4d9e1b6e_setup\", \"FeaturizationRunJsonPath\": \"featurizer_container.json\", \"FeaturizationRunId\": \"AutoML_27cfb90e-112a-4c73-81d0-d49a4d9e1b6e_featurize\", \"ProblemInfoJsonString\": \"{\\\"dataset_num_categorical\\\": 0, \\\"is_sparse\\\": false, \\\"subsampling\\\": false, \\\"dataset_classes\\\": 2, \\\"dataset_features\\\": 12, \\\"dataset_samples\\\": 299, \\\"single_frequency_class_detected\\\": false}\", \"ModelExplainRunId\": \"AutoML_27cfb90e-112a-4c73-81d0-d49a4d9e1b6e_ModelExplain\"}, \"tags\": {\"model_explain_run\": \"best_run\", \"_aml_system_azureml.automlComponent\": \"AutoML\", \"pipeline_id\": \"\", \"score\": \"\", \"predicted_cost\": \"\", \"fit_time\": \"\", \"training_percent\": \"\", \"iteration\": \"\", \"run_preprocessor\": \"\", \"run_algorithm\": \"\", \"dynamic_whitelisting_iterations\": \"<25>;<30>;<35>;\", \"automl_best_child_run_id\": \"AutoML_27cfb90e-112a-4c73-81d0-d49a4d9e1b6e_38\"}, \"end_time_utc\": \"2021-04-17T08:06:15.703661Z\", \"status\": \"Completed\", \"log_files\": {}, \"log_groups\": [], \"run_duration\": \"0:21:49\", \"run_number\": \"1\", \"run_queued_details\": {\"status\": \"Completed\", \"details\": null}}, \"child_runs\": [{\"run_id\": \"AutoML_27cfb90e-112a-4c73-81d0-d49a4d9e1b6e_0\", \"run_number\": 5, \"metric\": null, \"status\": \"Completed\", \"run_type\": \"azureml.scriptrun\", \"training_percent\": \"100\", \"start_time\": \"2021-04-17T07:55:09.360987Z\", \"end_time\": \"2021-04-17T07:57:08.868306Z\", \"created_time\": \"2021-04-17T07:51:51.21692Z\", \"created_time_dt\": \"2021-04-17T07:51:51.21692Z\", \"duration\": \"0:05:17\", \"iteration\": \"0\", \"goal\": \"AUC_weighted_max\", \"run_name\": \"MaxAbsScaler, LightGBM\", \"run_properties\": \"copy=True\", \"primary_metric\": 0.88409554, \"best_metric\": 0.88409554}, {\"run_id\": \"AutoML_27cfb90e-112a-4c73-81d0-d49a4d9e1b6e_1\", \"run_number\": 6, \"metric\": null, \"status\": \"Completed\", \"run_type\": \"azureml.scriptrun\", \"training_percent\": \"100\", \"start_time\": \"2021-04-17T07:53:00.157088Z\", \"end_time\": \"2021-04-17T07:53:48.706798Z\", \"created_time\": \"2021-04-17T07:51:51.232909Z\", \"created_time_dt\": \"2021-04-17T07:51:51.232909Z\", \"duration\": \"0:01:57\", \"iteration\": \"1\", \"goal\": \"AUC_weighted_max\", \"run_name\": \"MaxAbsScaler, XGBoostClassifier\", \"run_properties\": \"copy=True\", \"primary_metric\": 0.88473694, \"best_metric\": 0.88473694}, {\"run_id\": \"AutoML_27cfb90e-112a-4c73-81d0-d49a4d9e1b6e_2\", \"run_number\": 7, \"metric\": null, \"status\": \"Completed\", \"run_type\": \"azureml.scriptrun\", \"training_percent\": \"100\", \"start_time\": \"2021-04-17T07:54:03.754116Z\", \"end_time\": \"2021-04-17T07:54:47.856818Z\", \"created_time\": \"2021-04-17T07:51:51.235235Z\", \"created_time_dt\": \"2021-04-17T07:51:51.235235Z\", \"duration\": \"0:02:56\", \"iteration\": \"2\", \"goal\": \"AUC_weighted_max\", \"run_name\": \"MinMaxScaler, RandomForest\", \"run_properties\": \"copy=True, feature_range=(0, 1\", \"primary_metric\": 0.8968596, \"best_metric\": 0.8968596}, {\"run_id\": \"AutoML_27cfb90e-112a-4c73-81d0-d49a4d9e1b6e_3\", \"run_number\": 8, \"metric\": null, \"status\": \"Completed\", \"run_type\": \"azureml.scriptrun\", \"training_percent\": \"100\", \"start_time\": \"2021-04-17T07:52:00.256715Z\", \"end_time\": \"2021-04-17T07:52:44.858068Z\", \"created_time\": \"2021-04-17T07:51:51.235829Z\", \"created_time_dt\": \"2021-04-17T07:51:51.235829Z\", \"duration\": \"0:00:53\", \"iteration\": \"3\", \"goal\": \"AUC_weighted_max\", \"run_name\": \"RobustScaler, ExtremeRandomTrees\", \"run_properties\": \"copy=True, quantile_range=[10, 90], with_centering=False,\\n             with_scaling=False\", \"primary_metric\": 0.87162069, \"best_metric\": 0.8968596}, {\"run_id\": \"AutoML_27cfb90e-112a-4c73-81d0-d49a4d9e1b6e_4\", \"run_number\": 9, \"metric\": null, \"status\": \"Completed\", \"run_type\": \"azureml.scriptrun\", \"training_percent\": \"100\", \"start_time\": \"2021-04-17T07:55:03.327802Z\", \"end_time\": \"2021-04-17T07:55:45.843067Z\", \"created_time\": \"2021-04-17T07:51:51.261153Z\", \"created_time_dt\": \"2021-04-17T07:51:51.261153Z\", \"duration\": \"0:03:54\", \"iteration\": \"4\", \"goal\": \"AUC_weighted_max\", \"run_name\": \"MinMaxScaler, RandomForest\", \"run_properties\": \"copy=True, feature_range=(0, 1\", \"primary_metric\": 0.90095744, \"best_metric\": 0.90095744}, {\"run_id\": \"AutoML_27cfb90e-112a-4c73-81d0-d49a4d9e1b6e_5\", \"run_number\": 10, \"metric\": null, \"status\": \"Completed\", \"run_type\": \"azureml.scriptrun\", \"training_percent\": \"100\", \"start_time\": \"2021-04-17T07:55:11.190528Z\", \"end_time\": \"2021-04-17T07:57:38.232182Z\", \"created_time\": \"2021-04-17T07:52:48.673501Z\", \"created_time_dt\": \"2021-04-17T07:52:48.673501Z\", \"duration\": \"0:04:49\", \"iteration\": \"5\", \"goal\": \"AUC_weighted_max\", \"run_name\": \"MinMaxScaler, RandomForest\", \"run_properties\": \"copy=True, feature_range=(0, 1\", \"primary_metric\": 0.89986206, \"best_metric\": 0.90095744}, {\"run_id\": \"AutoML_27cfb90e-112a-4c73-81d0-d49a4d9e1b6e_6\", \"run_number\": 11, \"metric\": null, \"status\": \"Completed\", \"run_type\": \"azureml.scriptrun\", \"training_percent\": \"100\", \"start_time\": \"2021-04-17T07:55:10.626441Z\", \"end_time\": \"2021-04-17T07:58:20.519788Z\", \"created_time\": \"2021-04-17T07:53:52.815944Z\", \"created_time_dt\": \"2021-04-17T07:53:52.815944Z\", \"duration\": \"0:04:27\", \"iteration\": \"6\", \"goal\": \"AUC_weighted_max\", \"run_name\": \"StandardScalerWrapper, RandomForest\", \"run_properties\": \"<azureml.automl.runtime.shared.model_wrappers.StandardScalerWrapper object at 0x7fe847b73588\", \"primary_metric\": 0.89615997, \"best_metric\": 0.90095744}, {\"run_id\": \"AutoML_27cfb90e-112a-4c73-81d0-d49a4d9e1b6e_7\", \"run_number\": 12, \"metric\": null, \"status\": \"Completed\", \"run_type\": \"azureml.scriptrun\", \"training_percent\": \"100\", \"start_time\": \"2021-04-17T07:55:56.501182Z\", \"end_time\": \"2021-04-17T07:56:47.415765Z\", \"created_time\": \"2021-04-17T07:54:51.605543Z\", \"created_time_dt\": \"2021-04-17T07:54:51.605543Z\", \"duration\": \"0:01:55\", \"iteration\": \"7\", \"goal\": \"AUC_weighted_max\", \"run_name\": \"MinMaxScaler, ExtremeRandomTrees\", \"run_properties\": \"copy=True, feature_range=(0, 1\", \"primary_metric\": 0.88138203, \"best_metric\": 0.90095744}, {\"run_id\": \"AutoML_27cfb90e-112a-4c73-81d0-d49a4d9e1b6e_8\", \"run_number\": 13, \"metric\": null, \"status\": \"Completed\", \"run_type\": \"azureml.scriptrun\", \"training_percent\": \"100\", \"start_time\": \"2021-04-17T07:57:01.230223Z\", \"end_time\": \"2021-04-17T07:57:48.873483Z\", \"created_time\": \"2021-04-17T07:55:49.730235Z\", \"created_time_dt\": \"2021-04-17T07:55:49.730235Z\", \"duration\": \"0:01:59\", \"iteration\": \"8\", \"goal\": \"AUC_weighted_max\", \"run_name\": \"MinMaxScaler, ExtremeRandomTrees\", \"run_properties\": \"copy=True, feature_range=(0, 1\", \"primary_metric\": 0.86227969, \"best_metric\": 0.90095744}, {\"run_id\": \"AutoML_27cfb90e-112a-4c73-81d0-d49a4d9e1b6e_9\", \"run_number\": 14, \"metric\": null, \"status\": \"Completed\", \"run_type\": \"azureml.scriptrun\", \"training_percent\": \"100\", \"start_time\": \"2021-04-17T07:57:20.27048Z\", \"end_time\": \"2021-04-17T07:58:12.452114Z\", \"created_time\": \"2021-04-17T07:56:50.833949Z\", \"created_time_dt\": \"2021-04-17T07:56:50.833949Z\", \"duration\": \"0:01:21\", \"iteration\": \"9\", \"goal\": \"AUC_weighted_max\", \"run_name\": \"SparseNormalizer, KNN\", \"run_properties\": \"<azureml.automl.runtime.shared.model_wrappers.SparseNormalizer object at 0x7ff82c179748\", \"primary_metric\": 0.7496161, \"best_metric\": 0.90095744}, {\"run_id\": \"AutoML_27cfb90e-112a-4c73-81d0-d49a4d9e1b6e_10\", \"run_number\": 15, \"metric\": null, \"status\": \"Completed\", \"run_type\": \"azureml.scriptrun\", \"training_percent\": \"100\", \"start_time\": \"2021-04-17T07:57:50.07202Z\", \"end_time\": \"2021-04-17T07:58:34.323014Z\", \"created_time\": \"2021-04-17T07:57:12.523356Z\", \"created_time_dt\": \"2021-04-17T07:57:12.523356Z\", \"duration\": \"0:01:21\", \"iteration\": \"10\", \"goal\": \"AUC_weighted_max\", \"run_name\": \"MinMaxScaler, ExtremeRandomTrees\", \"run_properties\": \"copy=True, feature_range=(0, 1\", \"primary_metric\": 0.86911611, \"best_metric\": 0.90095744}, {\"run_id\": \"AutoML_27cfb90e-112a-4c73-81d0-d49a4d9e1b6e_11\", \"run_number\": 16, \"metric\": null, \"status\": \"Completed\", \"run_type\": \"azureml.scriptrun\", \"training_percent\": \"100\", \"start_time\": \"2021-04-17T07:58:11.959441Z\", \"end_time\": \"2021-04-17T07:58:47.450215Z\", \"created_time\": \"2021-04-17T07:57:42.124586Z\", \"created_time_dt\": \"2021-04-17T07:57:42.124586Z\", \"duration\": \"0:01:05\", \"iteration\": \"11\", \"goal\": \"AUC_weighted_max\", \"run_name\": \"RobustScaler, ExtremeRandomTrees\", \"run_properties\": \"copy=True, quantile_range=[10, 90], with_centering=True,\\n             with_scaling=False\", \"primary_metric\": 0.87908486, \"best_metric\": 0.90095744}, {\"run_id\": \"AutoML_27cfb90e-112a-4c73-81d0-d49a4d9e1b6e_12\", \"run_number\": 17, \"metric\": null, \"status\": \"Completed\", \"run_type\": \"azureml.scriptrun\", \"training_percent\": \"100\", \"start_time\": \"2021-04-17T07:58:29.182808Z\", \"end_time\": \"2021-04-17T07:59:15.711588Z\", \"created_time\": \"2021-04-17T07:57:53.071116Z\", \"created_time_dt\": \"2021-04-17T07:57:53.071116Z\", \"duration\": \"0:01:22\", \"iteration\": \"12\", \"goal\": \"AUC_weighted_max\", \"run_name\": \"StandardScalerWrapper, RandomForest\", \"run_properties\": \"<azureml.automl.runtime.shared.model_wrappers.StandardScalerWrapper object at 0x7f4857a95080\", \"primary_metric\": 0.89543595, \"best_metric\": 0.90095744}, {\"run_id\": \"AutoML_27cfb90e-112a-4c73-81d0-d49a4d9e1b6e_13\", \"run_number\": 18, \"metric\": null, \"status\": \"Completed\", \"run_type\": \"azureml.scriptrun\", \"training_percent\": \"100\", \"start_time\": \"2021-04-17T07:58:35.609446Z\", \"end_time\": \"2021-04-17T07:59:17.395721Z\", \"created_time\": \"2021-04-17T07:58:16.26057Z\", \"created_time_dt\": \"2021-04-17T07:58:16.26057Z\", \"duration\": \"0:01:01\", \"iteration\": \"13\", \"goal\": \"AUC_weighted_max\", \"run_name\": \"StandardScalerWrapper, SGD\", \"run_properties\": \"<azureml.automl.runtime.shared.model_wrappers.StandardScalerWrapper object at 0x7f42856e5278\", \"primary_metric\": 0.86761941, \"best_metric\": 0.90095744}, {\"run_id\": \"AutoML_27cfb90e-112a-4c73-81d0-d49a4d9e1b6e_14\", \"run_number\": 19, \"metric\": null, \"status\": \"Completed\", \"run_type\": \"azureml.scriptrun\", \"training_percent\": \"100\", \"start_time\": \"2021-04-17T07:58:50.956334Z\", \"end_time\": \"2021-04-17T07:59:38.366116Z\", \"created_time\": \"2021-04-17T07:58:24.9262Z\", \"created_time_dt\": \"2021-04-17T07:58:24.9262Z\", \"duration\": \"0:01:13\", \"iteration\": \"14\", \"goal\": \"AUC_weighted_max\", \"run_name\": \"RobustScaler, RandomForest\", \"run_properties\": \"copy=True, quantile_range=[10, 90], with_centering=True,\\n             with_scaling=False\", \"primary_metric\": 0.89817455, \"best_metric\": 0.90095744}, {\"run_id\": \"AutoML_27cfb90e-112a-4c73-81d0-d49a4d9e1b6e_15\", \"run_number\": 20, \"metric\": null, \"status\": \"Completed\", \"run_type\": \"azureml.scriptrun\", \"training_percent\": \"100\", \"start_time\": \"2021-04-17T07:59:01.58715Z\", \"end_time\": \"2021-04-17T07:59:44.0678Z\", \"created_time\": \"2021-04-17T07:58:38.33184Z\", \"created_time_dt\": \"2021-04-17T07:58:38.33184Z\", \"duration\": \"0:01:05\", \"iteration\": \"15\", \"goal\": \"AUC_weighted_max\", \"run_name\": \"StandardScalerWrapper, KNN\", \"run_properties\": \"<azureml.automl.runtime.shared.model_wrappers.StandardScalerWrapper object at 0x7f77aac82470\", \"primary_metric\": 0.52030533, \"best_metric\": 0.90095744}, {\"run_id\": \"AutoML_27cfb90e-112a-4c73-81d0-d49a4d9e1b6e_16\", \"run_number\": 21, \"metric\": null, \"status\": \"Completed\", \"run_type\": \"azureml.scriptrun\", \"training_percent\": \"100\", \"start_time\": \"2021-04-17T07:59:30.08832Z\", \"end_time\": \"2021-04-17T08:00:16.995842Z\", \"created_time\": \"2021-04-17T07:58:51.104947Z\", \"created_time_dt\": \"2021-04-17T07:58:51.104947Z\", \"duration\": \"0:01:25\", \"iteration\": \"16\", \"goal\": \"AUC_weighted_max\", \"run_name\": \"MinMaxScaler, RandomForest\", \"run_properties\": \"copy=True, feature_range=(0, 1\", \"primary_metric\": 0.88601503, \"best_metric\": 0.90095744}, {\"run_id\": \"AutoML_27cfb90e-112a-4c73-81d0-d49a4d9e1b6e_17\", \"run_number\": 22, \"metric\": null, \"status\": \"Completed\", \"run_type\": \"azureml.scriptrun\", \"training_percent\": \"100\", \"start_time\": \"2021-04-17T07:59:33.48858Z\", \"end_time\": \"2021-04-17T08:00:23.222876Z\", \"created_time\": \"2021-04-17T07:59:19.796692Z\", \"created_time_dt\": \"2021-04-17T07:59:19.796692Z\", \"duration\": \"0:01:03\", \"iteration\": \"17\", \"goal\": \"AUC_weighted_max\", \"run_name\": \"MinMaxScaler, ExtremeRandomTrees\", \"run_properties\": \"copy=True, feature_range=(0, 1\", \"primary_metric\": 0.83766708, \"best_metric\": 0.90095744}, {\"run_id\": \"AutoML_27cfb90e-112a-4c73-81d0-d49a4d9e1b6e_18\", \"run_number\": 23, \"metric\": null, \"status\": \"Completed\", \"run_type\": \"azureml.scriptrun\", \"training_percent\": \"100\", \"start_time\": \"2021-04-17T07:59:55.747644Z\", \"end_time\": \"2021-04-17T08:00:54.444879Z\", \"created_time\": \"2021-04-17T07:59:25.597244Z\", \"created_time_dt\": \"2021-04-17T07:59:25.597244Z\", \"duration\": \"0:01:28\", \"iteration\": \"18\", \"goal\": \"AUC_weighted_max\", \"run_name\": \"MaxAbsScaler, RandomForest\", \"run_properties\": \"copy=True\", \"primary_metric\": 0.89774756, \"best_metric\": 0.90095744}, {\"run_id\": \"AutoML_27cfb90e-112a-4c73-81d0-d49a4d9e1b6e_19\", \"run_number\": 24, \"metric\": null, \"status\": \"Completed\", \"run_type\": \"azureml.scriptrun\", \"training_percent\": \"100\", \"start_time\": \"2021-04-17T07:59:57.138351Z\", \"end_time\": \"2021-04-17T08:00:40.656727Z\", \"created_time\": \"2021-04-17T07:59:41.575279Z\", \"created_time_dt\": \"2021-04-17T07:59:41.575279Z\", \"duration\": \"0:00:59\", \"iteration\": \"19\", \"goal\": \"AUC_weighted_max\", \"run_name\": \"StandardScalerWrapper, XGBoostClassifier\", \"run_properties\": \"<azureml.automl.runtime.shared.model_wrappers.StandardScalerWrapper object at 0x7f8f0789df98\", \"primary_metric\": 0.90890998, \"best_metric\": 0.90890998}, {\"run_id\": \"AutoML_27cfb90e-112a-4c73-81d0-d49a4d9e1b6e_20\", \"run_number\": 25, \"metric\": null, \"status\": \"Completed\", \"run_type\": \"azureml.scriptrun\", \"training_percent\": \"100\", \"start_time\": \"2021-04-17T08:00:29.24985Z\", \"end_time\": \"2021-04-17T08:01:14.056574Z\", \"created_time\": \"2021-04-17T07:59:47.595934Z\", \"created_time_dt\": \"2021-04-17T07:59:47.595934Z\", \"duration\": \"0:01:26\", \"iteration\": \"20\", \"goal\": \"AUC_weighted_max\", \"run_name\": \"MaxAbsScaler, RandomForest\", \"run_properties\": \"copy=True\", \"primary_metric\": 0.89385052, \"best_metric\": 0.90890998}, {\"run_id\": \"AutoML_27cfb90e-112a-4c73-81d0-d49a4d9e1b6e_21\", \"run_number\": 26, \"metric\": null, \"status\": \"Completed\", \"run_type\": \"azureml.scriptrun\", \"training_percent\": \"100\", \"start_time\": \"2021-04-17T08:00:36.093675Z\", \"end_time\": \"2021-04-17T08:01:26.138971Z\", \"created_time\": \"2021-04-17T08:00:20.922198Z\", \"created_time_dt\": \"2021-04-17T08:00:20.922198Z\", \"duration\": \"0:01:05\", \"iteration\": \"21\", \"goal\": \"AUC_weighted_max\", \"run_name\": \"MaxAbsScaler, ExtremeRandomTrees\", \"run_properties\": \"copy=True\", \"primary_metric\": 0.82383051, \"best_metric\": 0.90890998}, {\"run_id\": \"AutoML_27cfb90e-112a-4c73-81d0-d49a4d9e1b6e_22\", \"run_number\": 27, \"metric\": null, \"status\": \"Completed\", \"run_type\": \"azureml.scriptrun\", \"training_percent\": \"100\", \"start_time\": \"2021-04-17T08:00:52.682518Z\", \"end_time\": \"2021-04-17T08:01:43.259297Z\", \"created_time\": \"2021-04-17T08:00:27.397491Z\", \"created_time_dt\": \"2021-04-17T08:00:27.397491Z\", \"duration\": \"0:01:15\", \"iteration\": \"22\", \"goal\": \"AUC_weighted_max\", \"run_name\": \"MaxAbsScaler, ExtremeRandomTrees\", \"run_properties\": \"copy=True\", \"primary_metric\": 0.89204977, \"best_metric\": 0.90890998}, {\"run_id\": \"AutoML_27cfb90e-112a-4c73-81d0-d49a4d9e1b6e_23\", \"run_number\": 28, \"metric\": null, \"status\": \"Completed\", \"run_type\": \"azureml.scriptrun\", \"training_percent\": \"100\", \"start_time\": \"2021-04-17T08:01:08.308752Z\", \"end_time\": \"2021-04-17T08:01:55.21137Z\", \"created_time\": \"2021-04-17T08:00:44.09234Z\", \"created_time_dt\": \"2021-04-17T08:00:44.09234Z\", \"duration\": \"0:01:11\", \"iteration\": \"23\", \"goal\": \"AUC_weighted_max\", \"run_name\": \"MaxAbsScaler, LightGBM\", \"run_properties\": \"copy=True\", \"primary_metric\": 0.90482139, \"best_metric\": 0.90890998}, {\"run_id\": \"AutoML_27cfb90e-112a-4c73-81d0-d49a4d9e1b6e_24\", \"run_number\": 29, \"metric\": null, \"status\": \"Completed\", \"run_type\": \"azureml.scriptrun\", \"training_percent\": \"100\", \"start_time\": \"2021-04-17T08:01:27.944347Z\", \"end_time\": \"2021-04-17T08:02:10.028731Z\", \"created_time\": \"2021-04-17T08:00:57.726881Z\", \"created_time_dt\": \"2021-04-17T08:00:57.726881Z\", \"duration\": \"0:01:12\", \"iteration\": \"24\", \"goal\": \"AUC_weighted_max\", \"run_name\": \"MaxAbsScaler, RandomForest\", \"run_properties\": \"copy=True\", \"primary_metric\": 0.89532066, \"best_metric\": 0.90890998}, {\"run_id\": \"AutoML_27cfb90e-112a-4c73-81d0-d49a4d9e1b6e_25\", \"run_number\": 30, \"metric\": null, \"status\": \"Completed\", \"run_type\": \"azureml.scriptrun\", \"training_percent\": \"100\", \"start_time\": \"2021-04-17T08:01:38.949742Z\", \"end_time\": \"2021-04-17T08:02:25.021215Z\", \"created_time\": \"2021-04-17T08:01:17.706714Z\", \"created_time_dt\": \"2021-04-17T08:01:17.706714Z\", \"duration\": \"0:01:07\", \"iteration\": \"25\", \"goal\": \"AUC_weighted_max\", \"run_name\": \"PCA, XGBoostClassifier\", \"run_properties\": \"copy=True, iterated_power='auto', n_components=0.10894736842105263,\\n    random_state=None, svd_solver='auto', tol=0.0, whiten=True\", \"primary_metric\": 0.50111267, \"best_metric\": 0.90890998}, {\"run_id\": \"AutoML_27cfb90e-112a-4c73-81d0-d49a4d9e1b6e_26\", \"run_number\": 31, \"metric\": null, \"status\": \"Completed\", \"run_type\": \"azureml.scriptrun\", \"training_percent\": \"100\", \"start_time\": \"2021-04-17T08:01:59.342389Z\", \"end_time\": \"2021-04-17T08:02:47.924212Z\", \"created_time\": \"2021-04-17T08:01:28.596717Z\", \"created_time_dt\": \"2021-04-17T08:01:28.596717Z\", \"duration\": \"0:01:19\", \"iteration\": \"26\", \"goal\": \"AUC_weighted_max\", \"run_name\": \"MaxAbsScaler, ExtremeRandomTrees\", \"run_properties\": \"copy=True\", \"primary_metric\": 0.8955562, \"best_metric\": 0.90890998}, {\"run_id\": \"AutoML_27cfb90e-112a-4c73-81d0-d49a4d9e1b6e_27\", \"run_number\": 32, \"metric\": null, \"status\": \"Completed\", \"run_type\": \"azureml.scriptrun\", \"training_percent\": \"100\", \"start_time\": \"2021-04-17T08:02:10.886643Z\", \"end_time\": \"2021-04-17T08:03:01.35142Z\", \"created_time\": \"2021-04-17T08:01:46.592155Z\", \"created_time_dt\": \"2021-04-17T08:01:46.592155Z\", \"duration\": \"0:01:14\", \"iteration\": \"27\", \"goal\": \"AUC_weighted_max\", \"run_name\": \"StandardScalerWrapper, LightGBM\", \"run_properties\": \"<azureml.automl.runtime.shared.model_wrappers.StandardScalerWrapper object at 0x7f1d4e091860\", \"primary_metric\": 0.85583877, \"best_metric\": 0.90890998}, {\"run_id\": \"AutoML_27cfb90e-112a-4c73-81d0-d49a4d9e1b6e_28\", \"run_number\": 33, \"metric\": null, \"status\": \"Completed\", \"run_type\": \"azureml.scriptrun\", \"training_percent\": \"100\", \"start_time\": \"2021-04-17T08:02:29.285077Z\", \"end_time\": \"2021-04-17T08:03:12.662514Z\", \"created_time\": \"2021-04-17T08:01:57.376365Z\", \"created_time_dt\": \"2021-04-17T08:01:57.376365Z\", \"duration\": \"0:01:15\", \"iteration\": \"28\", \"goal\": \"AUC_weighted_max\", \"run_name\": \"StandardScalerWrapper, LightGBM\", \"run_properties\": \"<azureml.automl.runtime.shared.model_wrappers.StandardScalerWrapper object at 0x7f77f73fabe0\", \"primary_metric\": 0.88844609, \"best_metric\": 0.90890998}, {\"run_id\": \"AutoML_27cfb90e-112a-4c73-81d0-d49a4d9e1b6e_29\", \"run_number\": 34, \"metric\": null, \"status\": \"Completed\", \"run_type\": \"azureml.scriptrun\", \"training_percent\": \"100\", \"start_time\": \"2021-04-17T08:02:39.199131Z\", \"end_time\": \"2021-04-17T08:03:26.378664Z\", \"created_time\": \"2021-04-17T08:02:12.875585Z\", \"created_time_dt\": \"2021-04-17T08:02:12.875585Z\", \"duration\": \"0:01:13\", \"iteration\": \"29\", \"goal\": \"AUC_weighted_max\", \"run_name\": \"MaxAbsScaler, LightGBM\", \"run_properties\": \"copy=True\", \"primary_metric\": 0.90842869, \"best_metric\": 0.90890998}, {\"run_id\": \"AutoML_27cfb90e-112a-4c73-81d0-d49a4d9e1b6e_30\", \"run_number\": 35, \"metric\": null, \"status\": \"Completed\", \"run_type\": \"azureml.scriptrun\", \"training_percent\": \"100\", \"start_time\": \"2021-04-17T08:03:02.177064Z\", \"end_time\": \"2021-04-17T08:03:45.417995Z\", \"created_time\": \"2021-04-17T08:02:28.576893Z\", \"created_time_dt\": \"2021-04-17T08:02:28.576893Z\", \"duration\": \"0:01:16\", \"iteration\": \"30\", \"goal\": \"AUC_weighted_max\", \"run_name\": \"StandardScalerWrapper, XGBoostClassifier\", \"run_properties\": \"<azureml.automl.runtime.shared.model_wrappers.StandardScalerWrapper object at 0x7fc106770c50\", \"primary_metric\": 0.90791952, \"best_metric\": 0.90890998}, {\"run_id\": \"AutoML_27cfb90e-112a-4c73-81d0-d49a4d9e1b6e_31\", \"run_number\": 36, \"metric\": null, \"status\": \"Completed\", \"run_type\": \"azureml.scriptrun\", \"training_percent\": \"100\", \"start_time\": \"2021-04-17T08:03:13.180415Z\", \"end_time\": \"2021-04-17T08:04:02.003475Z\", \"created_time\": \"2021-04-17T08:02:50.406369Z\", \"created_time_dt\": \"2021-04-17T08:02:50.406369Z\", \"duration\": \"0:01:11\", \"iteration\": \"31\", \"goal\": \"AUC_weighted_max\", \"run_name\": \"StandardScalerWrapper, LogisticRegression\", \"run_properties\": \"<azureml.automl.runtime.shared.model_wrappers.StandardScalerWrapper object at 0x7f5fdd2a2f28\", \"primary_metric\": 0.86804377, \"best_metric\": 0.90890998}, {\"run_id\": \"AutoML_27cfb90e-112a-4c73-81d0-d49a4d9e1b6e_32\", \"run_number\": 37, \"metric\": null, \"status\": \"Completed\", \"run_type\": \"azureml.scriptrun\", \"training_percent\": \"100\", \"start_time\": \"2021-04-17T08:03:28.183092Z\", \"end_time\": \"2021-04-17T08:04:17.557827Z\", \"created_time\": \"2021-04-17T08:03:03.999115Z\", \"created_time_dt\": \"2021-04-17T08:03:03.999115Z\", \"duration\": \"0:01:13\", \"iteration\": \"32\", \"goal\": \"AUC_weighted_max\", \"run_name\": \"MaxAbsScaler, LightGBM\", \"run_properties\": \"copy=True\", \"primary_metric\": 0.89961999, \"best_metric\": 0.90890998}, {\"run_id\": \"AutoML_27cfb90e-112a-4c73-81d0-d49a4d9e1b6e_33\", \"run_number\": 38, \"metric\": null, \"status\": \"Completed\", \"run_type\": \"azureml.scriptrun\", \"training_percent\": \"100\", \"start_time\": \"2021-04-17T08:03:41.197676Z\", \"end_time\": \"2021-04-17T08:04:24.774844Z\", \"created_time\": \"2021-04-17T08:03:15.105566Z\", \"created_time_dt\": \"2021-04-17T08:03:15.105566Z\", \"duration\": \"0:01:09\", \"iteration\": \"33\", \"goal\": \"AUC_weighted_max\", \"run_name\": \"StandardScalerWrapper, SVM\", \"run_properties\": \"<azureml.automl.runtime.shared.model_wrappers.StandardScalerWrapper object at 0x7f4873a54c50\", \"primary_metric\": 0.86819905, \"best_metric\": 0.90890998}, {\"run_id\": \"AutoML_27cfb90e-112a-4c73-81d0-d49a4d9e1b6e_34\", \"run_number\": 39, \"metric\": null, \"status\": \"Canceled\", \"run_type\": \"azureml.scriptrun\", \"training_percent\": \"100\", \"start_time\": \"2021-04-17T08:03:57.587606Z\", \"end_time\": \"2021-04-17T08:04:32.166625Z\", \"created_time\": \"2021-04-17T08:03:28.631352Z\", \"created_time_dt\": \"2021-04-17T08:03:28.631352Z\", \"duration\": \"0:01:03\", \"iteration\": \"34\", \"goal\": \"AUC_weighted_max\", \"run_name\": \"MaxAbsScaler, LogisticRegression\", \"run_properties\": \"copy=True\", \"primary_metric\": 0.86572678, \"best_metric\": 0.90890998}, {\"run_id\": \"AutoML_27cfb90e-112a-4c73-81d0-d49a4d9e1b6e_35\", \"run_number\": 40, \"metric\": null, \"status\": \"Canceled\", \"run_type\": \"azureml.scriptrun\", \"training_percent\": \"100\", \"start_time\": \"2021-04-17T08:04:18.292593Z\", \"end_time\": \"2021-04-17T08:04:31.926225Z\", \"created_time\": \"2021-04-17T08:03:49.610082Z\", \"created_time_dt\": \"2021-04-17T08:03:49.610082Z\", \"duration\": \"0:00:42\", \"iteration\": \"35\", \"goal\": null, \"run_name\": \"Canceled\", \"run_properties\": null}, {\"run_id\": \"AutoML_27cfb90e-112a-4c73-81d0-d49a4d9e1b6e_36\", \"run_number\": 41, \"metric\": null, \"status\": \"Canceled\", \"run_type\": \"azureml.scriptrun\", \"training_percent\": \"100\", \"start_time\": \"2021-04-17T08:04:04.304655Z\", \"end_time\": \"2021-04-17T08:04:32.646373Z\", \"created_time\": \"2021-04-17T08:04:04.304655Z\", \"created_time_dt\": \"2021-04-17T08:04:04.304655Z\", \"duration\": \"0:00:28\", \"iteration\": \"36\", \"goal\": null, \"run_name\": \"Canceled\", \"run_properties\": null}, {\"run_id\": \"AutoML_27cfb90e-112a-4c73-81d0-d49a4d9e1b6e_37\", \"run_number\": 42, \"metric\": null, \"status\": \"Canceled\", \"run_type\": \"azureml.scriptrun\", \"training_percent\": \"100\", \"start_time\": \"2021-04-17T08:04:20.344556Z\", \"end_time\": \"2021-04-17T08:04:35.97306Z\", \"created_time\": \"2021-04-17T08:04:20.344556Z\", \"created_time_dt\": \"2021-04-17T08:04:20.344556Z\", \"duration\": \"0:00:15\", \"iteration\": \"37\", \"goal\": null, \"run_name\": \"Canceled\", \"run_properties\": null}, {\"run_id\": \"AutoML_27cfb90e-112a-4c73-81d0-d49a4d9e1b6e_38\", \"run_number\": 43, \"metric\": null, \"status\": \"Completed\", \"run_type\": \"azureml.scriptrun\", \"training_percent\": \"100\", \"start_time\": \"2021-04-17T08:04:48.503962Z\", \"end_time\": \"2021-04-17T08:05:58.628191Z\", \"created_time\": \"2021-04-17T08:04:37.521619Z\", \"created_time_dt\": \"2021-04-17T08:04:37.521619Z\", \"duration\": \"0:01:21\", \"iteration\": \"38\", \"goal\": \"AUC_weighted_max\", \"run_name\": \"VotingEnsemble\", \"run_properties\": \"classification_labels=None,\\n                              estimators=[('19',\\n                                           Pipeline(memory=None,\\n                                                    steps=[('standardscalerwrapper',\\n                                                            <azureml.automl.runtime.shared.model_wrappers.StandardScalerWrapper object at 0x7fb048330f98>\", \"primary_metric\": 0.91546201, \"best_metric\": 0.91546201}, {\"run_id\": \"AutoML_27cfb90e-112a-4c73-81d0-d49a4d9e1b6e_39\", \"run_number\": 44, \"metric\": null, \"status\": \"Completed\", \"run_type\": \"azureml.scriptrun\", \"training_percent\": \"100\", \"start_time\": \"2021-04-17T08:04:46.577156Z\", \"end_time\": \"2021-04-17T08:06:12.731403Z\", \"created_time\": \"2021-04-17T08:04:37.66444Z\", \"created_time_dt\": \"2021-04-17T08:04:37.66444Z\", \"duration\": \"0:01:35\", \"iteration\": \"39\", \"goal\": \"AUC_weighted_max\", \"run_name\": \"StackEnsemble\", \"run_properties\": \"base_learners=[('19',\\n                                        Pipeline(memory=None,\\n                                                 steps=[('standardscalerwrapper',\\n                                                         <azureml.automl.runtime.shared.model_wrappers.StandardScalerWrapper object at 0x7f2f7062d5c0>\", \"primary_metric\": 0.91109872, \"best_metric\": 0.91546201}], \"children_metrics\": {\"categories\": [0], \"series\": {\"recall_score_micro\": [{\"categories\": [\"0\", \"1\", \"2\", \"3\", \"4\", \"5\", \"6\", \"7\", \"8\", \"9\", \"10\", \"11\", \"12\", \"13\", \"14\", \"15\", \"16\", \"17\", \"18\", \"19\", \"20\", \"21\", \"22\", \"23\", \"24\", \"25\", \"26\", \"27\", \"28\", \"29\", \"30\", \"31\", \"32\", \"33\", \"34\", \"38\", \"39\"], \"mode\": \"markers\", \"name\": \"recall_score_micro\", \"stepped\": false, \"type\": \"scatter\", \"data\": [0.8359770114942527, 0.8358620689655172, 0.8328735632183909, 0.7960919540229885, 0.8391954022988506, 0.8358620689655172, 0.8191954022988505, 0.8462068965517242, 0.7894252873563219, 0.7659770114942528, 0.7994252873563219, 0.8362068965517242, 0.8021839080459771, 0.8258620689655173, 0.8021839080459771, 0.6389655172413793, 0.7894252873563218, 0.8091954022988505, 0.8191954022988506, 0.8258620689655173, 0.8394252873563218, 0.789080459770115, 0.8394252873563218, 0.8458620689655172, 0.8327586206896551, 0.6322988505747127, 0.8326436781609197, 0.7025287356321839, 0.7994252873563219, 0.8493103448275863, 0.8495402298850575, 0.792528735632184, 0.8360919540229885, 0.8126436781609195, 0.8293103448275861, 0.8462068965517242, 0.7991954022988506]}, {\"categories\": [\"0\", \"1\", \"2\", \"3\", \"4\", \"5\", \"6\", \"7\", \"8\", \"9\", \"10\", \"11\", \"12\", \"13\", \"14\", \"15\", \"16\", \"17\", \"18\", \"19\", \"20\", \"21\", \"22\", \"23\", \"24\", \"25\", \"26\", \"27\", \"28\", \"29\", \"30\", \"31\", \"32\", \"33\", \"34\", \"38\", \"39\"], \"mode\": \"lines\", \"name\": \"recall_score_micro_max\", \"stepped\": true, \"type\": \"scatter\", \"data\": [0.8359770114942527, 0.8359770114942527, 0.8359770114942527, 0.8359770114942527, 0.8391954022988506, 0.8391954022988506, 0.8391954022988506, 0.8462068965517242, 0.8462068965517242, 0.8462068965517242, 0.8462068965517242, 0.8462068965517242, 0.8462068965517242, 0.8462068965517242, 0.8462068965517242, 0.8462068965517242, 0.8462068965517242, 0.8462068965517242, 0.8462068965517242, 0.8462068965517242, 0.8462068965517242, 0.8462068965517242, 0.8462068965517242, 0.8462068965517242, 0.8462068965517242, 0.8462068965517242, 0.8462068965517242, 0.8462068965517242, 0.8462068965517242, 0.8493103448275863, 0.8495402298850575, 0.8495402298850575, 0.8495402298850575, 0.8495402298850575, 0.8495402298850575, 0.8495402298850575, 0.8495402298850575]}], \"AUC_weighted\": [{\"categories\": [\"0\", \"1\", \"2\", \"3\", \"4\", \"5\", \"6\", \"7\", \"8\", \"9\", \"10\", \"11\", \"12\", \"13\", \"14\", \"15\", \"16\", \"17\", \"18\", \"19\", \"20\", \"21\", \"22\", \"23\", \"24\", \"25\", \"26\", \"27\", \"28\", \"29\", \"30\", \"31\", \"32\", \"33\", \"34\", \"38\", \"39\"], \"mode\": \"markers\", \"name\": \"AUC_weighted\", \"stepped\": false, \"type\": \"scatter\", \"data\": [0.8840955354735103, 0.8847369443591411, 0.896859596124699, 0.8716206941926622, 0.9009574430696856, 0.8998620616924391, 0.8961599707441981, 0.8813820301742499, 0.8622796878560036, 0.7496161006793443, 0.8691161132134246, 0.8790848611702732, 0.895435950740928, 0.8676194104331977, 0.8981745459388479, 0.5203053263648802, 0.886015030659653, 0.8376670760399021, 0.8977475643984798, 0.9089099837731132, 0.8938505229917129, 0.8238305122159814, 0.8920497652233349, 0.9048213900748798, 0.8953206579250057, 0.5011126699736825, 0.8955562046860672, 0.8558387721059347, 0.8884460911006105, 0.9084286949532373, 0.9079195199240966, 0.8680437667786066, 0.8996199861203295, 0.8681990535462504, 0.8657267750513746, 0.9154620126568067, 0.9110987222943173]}, {\"categories\": [\"0\", \"1\", \"2\", \"3\", \"4\", \"5\", \"6\", \"7\", \"8\", \"9\", \"10\", \"11\", \"12\", \"13\", \"14\", \"15\", \"16\", \"17\", \"18\", \"19\", \"20\", \"21\", \"22\", \"23\", \"24\", \"25\", \"26\", \"27\", \"28\", \"29\", \"30\", \"31\", \"32\", \"33\", \"34\", \"38\", \"39\"], \"mode\": \"lines\", \"name\": \"AUC_weighted_max\", \"stepped\": true, \"type\": \"scatter\", \"data\": [0.8840955354735103, 0.8847369443591411, 0.896859596124699, 0.896859596124699, 0.9009574430696856, 0.9009574430696856, 0.9009574430696856, 0.9009574430696856, 0.9009574430696856, 0.9009574430696856, 0.9009574430696856, 0.9009574430696856, 0.9009574430696856, 0.9009574430696856, 0.9009574430696856, 0.9009574430696856, 0.9009574430696856, 0.9009574430696856, 0.9009574430696856, 0.9089099837731132, 0.9089099837731132, 0.9089099837731132, 0.9089099837731132, 0.9089099837731132, 0.9089099837731132, 0.9089099837731132, 0.9089099837731132, 0.9089099837731132, 0.9089099837731132, 0.9089099837731132, 0.9089099837731132, 0.9089099837731132, 0.9089099837731132, 0.9089099837731132, 0.9089099837731132, 0.9154620126568067, 0.9154620126568067]}], \"precision_score_micro\": [{\"categories\": [\"0\", \"1\", \"2\", \"3\", \"4\", \"5\", \"6\", \"7\", \"8\", \"9\", \"10\", \"11\", \"12\", \"13\", \"14\", \"15\", \"16\", \"17\", \"18\", \"19\", \"20\", \"21\", \"22\", \"23\", \"24\", \"25\", \"26\", \"27\", \"28\", \"29\", \"30\", \"31\", \"32\", \"33\", \"34\", \"38\", \"39\"], \"mode\": \"markers\", \"name\": \"precision_score_micro\", \"stepped\": false, \"type\": \"scatter\", \"data\": [0.8359770114942527, 0.8358620689655172, 0.8328735632183909, 0.7960919540229885, 0.8391954022988506, 0.8358620689655172, 0.8191954022988505, 0.8462068965517242, 0.7894252873563219, 0.7659770114942528, 0.7994252873563219, 0.8362068965517242, 0.8021839080459771, 0.8258620689655173, 0.8021839080459771, 0.6389655172413793, 0.7894252873563218, 0.8091954022988505, 0.8191954022988506, 0.8258620689655173, 0.8394252873563218, 0.789080459770115, 0.8394252873563218, 0.8458620689655172, 0.8327586206896551, 0.6322988505747127, 0.8326436781609197, 0.7025287356321839, 0.7994252873563219, 0.8493103448275863, 0.8495402298850575, 0.792528735632184, 0.8360919540229885, 0.8126436781609195, 0.8293103448275861, 0.8462068965517242, 0.7991954022988506]}, {\"categories\": [\"0\", \"1\", \"2\", \"3\", \"4\", \"5\", \"6\", \"7\", \"8\", \"9\", \"10\", \"11\", \"12\", \"13\", \"14\", \"15\", \"16\", \"17\", \"18\", \"19\", \"20\", \"21\", \"22\", \"23\", \"24\", \"25\", \"26\", \"27\", \"28\", \"29\", \"30\", \"31\", \"32\", \"33\", \"34\", \"38\", \"39\"], \"mode\": \"lines\", \"name\": \"precision_score_micro_max\", \"stepped\": true, \"type\": \"scatter\", \"data\": [0.8359770114942527, 0.8359770114942527, 0.8359770114942527, 0.8359770114942527, 0.8391954022988506, 0.8391954022988506, 0.8391954022988506, 0.8462068965517242, 0.8462068965517242, 0.8462068965517242, 0.8462068965517242, 0.8462068965517242, 0.8462068965517242, 0.8462068965517242, 0.8462068965517242, 0.8462068965517242, 0.8462068965517242, 0.8462068965517242, 0.8462068965517242, 0.8462068965517242, 0.8462068965517242, 0.8462068965517242, 0.8462068965517242, 0.8462068965517242, 0.8462068965517242, 0.8462068965517242, 0.8462068965517242, 0.8462068965517242, 0.8462068965517242, 0.8493103448275863, 0.8495402298850575, 0.8495402298850575, 0.8495402298850575, 0.8495402298850575, 0.8495402298850575, 0.8495402298850575, 0.8495402298850575]}], \"average_precision_score_macro\": [{\"categories\": [\"0\", \"1\", \"2\", \"3\", \"4\", \"5\", \"6\", \"7\", \"8\", \"9\", \"10\", \"11\", \"12\", \"13\", \"14\", \"15\", \"16\", \"17\", \"18\", \"19\", \"20\", \"21\", \"22\", \"23\", \"24\", \"25\", \"26\", \"27\", \"28\", \"29\", \"30\", \"31\", \"32\", \"33\", \"34\", \"38\", \"39\"], \"mode\": \"markers\", \"name\": \"average_precision_score_macro\", \"stepped\": false, \"type\": \"scatter\", \"data\": [0.8807888197525153, 0.8807340475847678, 0.8947249738546651, 0.8645654644665843, 0.896507394091732, 0.8888346689053309, 0.8806688482303603, 0.8822634857145758, 0.8553112303695544, 0.7610796181270093, 0.8672602773262316, 0.8823106166320033, 0.8919630693674907, 0.8571752343312941, 0.8936402051163661, 0.5793782772753733, 0.8816641653093878, 0.8094635083306205, 0.8864973117589526, 0.8985389415472792, 0.8853504208487107, 0.8249823073068618, 0.885154218596224, 0.9003369159269561, 0.8907198075426429, 0.5431594270481064, 0.8883552076168293, 0.8493907592342117, 0.8837895912411289, 0.9007523607828734, 0.8936466034801475, 0.8530575948984758, 0.8919764722977626, 0.8563525694975935, 0.857377073962048, 0.9087471907517933, 0.9059688603811035]}, {\"categories\": [\"0\", \"1\", \"2\", \"3\", \"4\", \"5\", \"6\", \"7\", \"8\", \"9\", \"10\", \"11\", \"12\", \"13\", \"14\", \"15\", \"16\", \"17\", \"18\", \"19\", \"20\", \"21\", \"22\", \"23\", \"24\", \"25\", \"26\", \"27\", \"28\", \"29\", \"30\", \"31\", \"32\", \"33\", \"34\", \"38\", \"39\"], \"mode\": \"lines\", \"name\": \"average_precision_score_macro_max\", \"stepped\": true, \"type\": \"scatter\", \"data\": [0.8807888197525153, 0.8807888197525153, 0.8947249738546651, 0.8947249738546651, 0.896507394091732, 0.896507394091732, 0.896507394091732, 0.896507394091732, 0.896507394091732, 0.896507394091732, 0.896507394091732, 0.896507394091732, 0.896507394091732, 0.896507394091732, 0.896507394091732, 0.896507394091732, 0.896507394091732, 0.896507394091732, 0.896507394091732, 0.8985389415472792, 0.8985389415472792, 0.8985389415472792, 0.8985389415472792, 0.9003369159269561, 0.9003369159269561, 0.9003369159269561, 0.9003369159269561, 0.9003369159269561, 0.9003369159269561, 0.9007523607828734, 0.9007523607828734, 0.9007523607828734, 0.9007523607828734, 0.9007523607828734, 0.9007523607828734, 0.9087471907517933, 0.9087471907517933]}], \"weighted_accuracy\": [{\"categories\": [\"0\", \"1\", \"2\", \"3\", \"4\", \"5\", \"6\", \"7\", \"8\", \"9\", \"10\", \"11\", \"12\", \"13\", \"14\", \"15\", \"16\", \"17\", \"18\", \"19\", \"20\", \"21\", \"22\", \"23\", \"24\", \"25\", \"26\", \"27\", \"28\", \"29\", \"30\", \"31\", \"32\", \"33\", \"34\", \"38\", \"39\"], \"mode\": \"markers\", \"name\": \"weighted_accuracy\", \"stepped\": false, \"type\": \"scatter\", \"data\": [0.8541321922200625, 0.8502962163535492, 0.8498936092905385, 0.8516125026404154, 0.8504506302275668, 0.8530026924269171, 0.8330985277235072, 0.8776081102049129, 0.8437565044643464, 0.8227930918585225, 0.8547081100894716, 0.8753135950992841, 0.7960965501393023, 0.8466057819414303, 0.8059687626429255, 0.6980167624045801, 0.8502129981226407, 0.818628211420646, 0.8147062897461878, 0.8533454461004967, 0.8567983444552402, 0.7985298466833912, 0.8620568955807576, 0.8641262389921757, 0.8762103295105993, 0.7085784356804286, 0.8461887269250055, 0.8069402200087714, 0.8503863081886127, 0.8762404408485527, 0.8648564716521042, 0.794035685460014, 0.8639320988127451, 0.8359265903781619, 0.8510199055144018, 0.8666119784838132, 0.8341652037453094]}, {\"categories\": [\"0\", \"1\", \"2\", \"3\", \"4\", \"5\", \"6\", \"7\", \"8\", \"9\", \"10\", \"11\", \"12\", \"13\", \"14\", \"15\", \"16\", \"17\", \"18\", \"19\", \"20\", \"21\", \"22\", \"23\", \"24\", \"25\", \"26\", \"27\", \"28\", \"29\", \"30\", \"31\", \"32\", \"33\", \"34\", \"38\", \"39\"], \"mode\": \"lines\", \"name\": \"weighted_accuracy_max\", \"stepped\": true, \"type\": \"scatter\", \"data\": [0.8541321922200625, 0.8541321922200625, 0.8541321922200625, 0.8541321922200625, 0.8541321922200625, 0.8541321922200625, 0.8541321922200625, 0.8776081102049129, 0.8776081102049129, 0.8776081102049129, 0.8776081102049129, 0.8776081102049129, 0.8776081102049129, 0.8776081102049129, 0.8776081102049129, 0.8776081102049129, 0.8776081102049129, 0.8776081102049129, 0.8776081102049129, 0.8776081102049129, 0.8776081102049129, 0.8776081102049129, 0.8776081102049129, 0.8776081102049129, 0.8776081102049129, 0.8776081102049129, 0.8776081102049129, 0.8776081102049129, 0.8776081102049129, 0.8776081102049129, 0.8776081102049129, 0.8776081102049129, 0.8776081102049129, 0.8776081102049129, 0.8776081102049129, 0.8776081102049129, 0.8776081102049129]}], \"AUC_macro\": [{\"categories\": [\"0\", \"1\", \"2\", \"3\", \"4\", \"5\", \"6\", \"7\", \"8\", \"9\", \"10\", \"11\", \"12\", \"13\", \"14\", \"15\", \"16\", \"17\", \"18\", \"19\", \"20\", \"21\", \"22\", \"23\", \"24\", \"25\", \"26\", \"27\", \"28\", \"29\", \"30\", \"31\", \"32\", \"33\", \"34\", \"38\", \"39\"], \"mode\": \"markers\", \"name\": \"AUC_macro\", \"stepped\": false, \"type\": \"scatter\", \"data\": [0.8840955354735103, 0.8847369443591411, 0.896859596124699, 0.8716206941926622, 0.9009574430696856, 0.8998620616924393, 0.8959542490600129, 0.8813820301742499, 0.8622796878560036, 0.7496161006793443, 0.8691161132134246, 0.8790848611702732, 0.895435950740928, 0.8676194104331977, 0.8981745459388479, 0.5203053263648802, 0.886015030659653, 0.8376670760399021, 0.8977475643984798, 0.9089099837731132, 0.8938505229917129, 0.8238305122159814, 0.8920497652233349, 0.9048213900748798, 0.8953206579250057, 0.5011126699736825, 0.8955562046860672, 0.8558387721059347, 0.8884460911006105, 0.9084286949532373, 0.9079195199240966, 0.8680437667786066, 0.8996199861203295, 0.8681990535462504, 0.8657267750513746, 0.9154620126568066, 0.9110987222943173]}, {\"categories\": [\"0\", \"1\", \"2\", \"3\", \"4\", \"5\", \"6\", \"7\", \"8\", \"9\", \"10\", \"11\", \"12\", \"13\", \"14\", \"15\", \"16\", \"17\", \"18\", \"19\", \"20\", \"21\", \"22\", \"23\", \"24\", \"25\", \"26\", \"27\", \"28\", \"29\", \"30\", \"31\", \"32\", \"33\", \"34\", \"38\", \"39\"], \"mode\": \"lines\", \"name\": \"AUC_macro_max\", \"stepped\": true, \"type\": \"scatter\", \"data\": [0.8840955354735103, 0.8847369443591411, 0.896859596124699, 0.896859596124699, 0.9009574430696856, 0.9009574430696856, 0.9009574430696856, 0.9009574430696856, 0.9009574430696856, 0.9009574430696856, 0.9009574430696856, 0.9009574430696856, 0.9009574430696856, 0.9009574430696856, 0.9009574430696856, 0.9009574430696856, 0.9009574430696856, 0.9009574430696856, 0.9009574430696856, 0.9089099837731132, 0.9089099837731132, 0.9089099837731132, 0.9089099837731132, 0.9089099837731132, 0.9089099837731132, 0.9089099837731132, 0.9089099837731132, 0.9089099837731132, 0.9089099837731132, 0.9089099837731132, 0.9089099837731132, 0.9089099837731132, 0.9089099837731132, 0.9089099837731132, 0.9089099837731132, 0.9154620126568066, 0.9154620126568066]}], \"matthews_correlation\": [{\"categories\": [\"0\", \"1\", \"2\", \"3\", \"4\", \"5\", \"6\", \"7\", \"8\", \"9\", \"10\", \"11\", \"12\", \"13\", \"14\", \"15\", \"16\", \"17\", \"18\", \"19\", \"20\", \"21\", \"22\", \"23\", \"24\", \"25\", \"26\", \"27\", \"28\", \"29\", \"30\", \"31\", \"32\", \"33\", \"34\", \"38\", \"39\"], \"mode\": \"markers\", \"name\": \"matthews_correlation\", \"stepped\": false, \"type\": \"scatter\", \"data\": [0.6231314496952846, 0.6345538749068885, 0.6235689834893133, 0.5246989675533182, 0.6366763935355808, 0.6401663324787579, 0.5908827639041552, 0.6447364321600283, 0.4969178172085966, 0.4352854456898543, 0.5356321194085969, 0.6174609990844917, 0.5843458738024816, 0.6078941448682351, 0.5767264561971244, 0.10426477830980234, 0.5047133088619329, 0.5663930570691817, 0.6156912621661397, 0.591194297640371, 0.6345208869940118, 0.5367505950175828, 0.6270617272850988, 0.6420183687167496, 0.6101822156773536, 0.0280564836362066, 0.6199477773658141, 0.15790440461326574, 0.5452689258452381, 0.6514719787649329, 0.6638128287833085, 0.5585540540065608, 0.6201782261894361, 0.5778022986053483, 0.6149414220637609, 0.6556212663377842, 0.48767965079360104]}, {\"categories\": [\"0\", \"1\", \"2\", \"3\", \"4\", \"5\", \"6\", \"7\", \"8\", \"9\", \"10\", \"11\", \"12\", \"13\", \"14\", \"15\", \"16\", \"17\", \"18\", \"19\", \"20\", \"21\", \"22\", \"23\", \"24\", \"25\", \"26\", \"27\", \"28\", \"29\", \"30\", \"31\", \"32\", \"33\", \"34\", \"38\", \"39\"], \"mode\": \"lines\", \"name\": \"matthews_correlation_max\", \"stepped\": true, \"type\": \"scatter\", \"data\": [0.6231314496952846, 0.6345538749068885, 0.6345538749068885, 0.6345538749068885, 0.6366763935355808, 0.6401663324787579, 0.6401663324787579, 0.6447364321600283, 0.6447364321600283, 0.6447364321600283, 0.6447364321600283, 0.6447364321600283, 0.6447364321600283, 0.6447364321600283, 0.6447364321600283, 0.6447364321600283, 0.6447364321600283, 0.6447364321600283, 0.6447364321600283, 0.6447364321600283, 0.6447364321600283, 0.6447364321600283, 0.6447364321600283, 0.6447364321600283, 0.6447364321600283, 0.6447364321600283, 0.6447364321600283, 0.6447364321600283, 0.6447364321600283, 0.6514719787649329, 0.6638128287833085, 0.6638128287833085, 0.6638128287833085, 0.6638128287833085, 0.6638128287833085, 0.6638128287833085, 0.6638128287833085]}], \"precision_score_weighted\": [{\"categories\": [\"0\", \"1\", \"2\", \"3\", \"4\", \"5\", \"6\", \"7\", \"8\", \"9\", \"10\", \"11\", \"12\", \"13\", \"14\", \"15\", \"16\", \"17\", \"18\", \"19\", \"20\", \"21\", \"22\", \"23\", \"24\", \"25\", \"26\", \"27\", \"28\", \"29\", \"30\", \"31\", \"32\", \"33\", \"34\", \"38\", \"39\"], \"mode\": \"markers\", \"name\": \"precision_score_weighted\", \"stepped\": false, \"type\": \"scatter\", \"data\": [0.8443308716969533, 0.8506678986628277, 0.8467026108158041, 0.8202532348183771, 0.8538165084124605, 0.8585989893444298, 0.830081060950603, 0.8594004552658989, 0.8111172767096306, 0.7837569262377359, 0.8297252627654427, 0.8519163017650786, 0.83818860312236, 0.8456971838044295, 0.8318243049385536, 0.6261394969463244, 0.8227755752262247, 0.8269755548812896, 0.8501006388031375, 0.8350718081947862, 0.8526327404675363, 0.8170310388927522, 0.8494183301567109, 0.8558550831100741, 0.8517137872533569, 0.5803523977937772, 0.8473396544873306, 0.6517995772228828, 0.8353042772005791, 0.8631436297844344, 0.8630674986612412, 0.8303048768950072, 0.8520516811751092, 0.8308919530354609, 0.8475641777966109, 0.8592133648723248, 0.7708067805354556]}, {\"categories\": [\"0\", \"1\", \"2\", \"3\", \"4\", \"5\", \"6\", \"7\", \"8\", \"9\", \"10\", \"11\", \"12\", \"13\", \"14\", \"15\", \"16\", \"17\", \"18\", \"19\", \"20\", \"21\", \"22\", \"23\", \"24\", \"25\", \"26\", \"27\", \"28\", \"29\", \"30\", \"31\", \"32\", \"33\", \"34\", \"38\", \"39\"], \"mode\": \"lines\", \"name\": \"precision_score_weighted_max\", \"stepped\": true, \"type\": \"scatter\", \"data\": [0.8443308716969533, 0.8506678986628277, 0.8506678986628277, 0.8506678986628277, 0.8538165084124605, 0.8585989893444298, 0.8585989893444298, 0.8594004552658989, 0.8594004552658989, 0.8594004552658989, 0.8594004552658989, 0.8594004552658989, 0.8594004552658989, 0.8594004552658989, 0.8594004552658989, 0.8594004552658989, 0.8594004552658989, 0.8594004552658989, 0.8594004552658989, 0.8594004552658989, 0.8594004552658989, 0.8594004552658989, 0.8594004552658989, 0.8594004552658989, 0.8594004552658989, 0.8594004552658989, 0.8594004552658989, 0.8594004552658989, 0.8594004552658989, 0.8631436297844344, 0.8631436297844344, 0.8631436297844344, 0.8631436297844344, 0.8631436297844344, 0.8631436297844344, 0.8631436297844344, 0.8631436297844344]}], \"recall_score_macro\": [{\"categories\": [\"0\", \"1\", \"2\", \"3\", \"4\", \"5\", \"6\", \"7\", \"8\", \"9\", \"10\", \"11\", \"12\", \"13\", \"14\", \"15\", \"16\", \"17\", \"18\", \"19\", \"20\", \"21\", \"22\", \"23\", \"24\", \"25\", \"26\", \"27\", \"28\", \"29\", \"30\", \"31\", \"32\", \"33\", \"34\", \"38\", \"39\"], \"mode\": \"markers\", \"name\": \"recall_score_macro\", \"stepped\": false, \"type\": \"scatter\", \"data\": [0.8077082895810014, 0.8130249020938379, 0.8051033207194533, 0.711961472769539, 0.8206513232191149, 0.808307379119736, 0.7970996182815404, 0.7953773865658877, 0.7075052725687737, 0.6780357113964093, 0.7135194045720362, 0.7760689763770428, 0.8093471347175581, 0.7933053417469893, 0.7988758362474038, 0.5513534193685796, 0.6961767458006017, 0.7906493799551579, 0.8238723463797835, 0.7831479179668539, 0.8135542178073643, 0.7750082638249115, 0.803324780577927, 0.8183071038102504, 0.7634630012118572, 0.5157612563193228, 0.811759092642674, 0.5371031746031745, 0.7222288428581335, 0.8050590243725255, 0.8265390662922126, 0.7890289850944885, 0.790865270059206, 0.7773782133198608, 0.7956483204057574, 0.8149008039697397, 0.7362873793508805]}, {\"categories\": [\"0\", \"1\", \"2\", \"3\", \"4\", \"5\", \"6\", \"7\", \"8\", \"9\", \"10\", \"11\", \"12\", \"13\", \"14\", \"15\", \"16\", \"17\", \"18\", \"19\", \"20\", \"21\", \"22\", \"23\", \"24\", \"25\", \"26\", \"27\", \"28\", \"29\", \"30\", \"31\", \"32\", \"33\", \"34\", \"38\", \"39\"], \"mode\": \"lines\", \"name\": \"recall_score_macro_max\", \"stepped\": true, \"type\": \"scatter\", \"data\": [0.8077082895810014, 0.8130249020938379, 0.8130249020938379, 0.8130249020938379, 0.8206513232191149, 0.8206513232191149, 0.8206513232191149, 0.8206513232191149, 0.8206513232191149, 0.8206513232191149, 0.8206513232191149, 0.8206513232191149, 0.8206513232191149, 0.8206513232191149, 0.8206513232191149, 0.8206513232191149, 0.8206513232191149, 0.8206513232191149, 0.8238723463797835, 0.8238723463797835, 0.8238723463797835, 0.8238723463797835, 0.8238723463797835, 0.8238723463797835, 0.8238723463797835, 0.8238723463797835, 0.8238723463797835, 0.8238723463797835, 0.8238723463797835, 0.8238723463797835, 0.8265390662922126, 0.8265390662922126, 0.8265390662922126, 0.8265390662922126, 0.8265390662922126, 0.8265390662922126, 0.8265390662922126]}], \"AUC_micro\": [{\"categories\": [\"0\", \"1\", \"2\", \"3\", \"4\", \"5\", \"6\", \"7\", \"8\", \"9\", \"10\", \"11\", \"12\", \"13\", \"14\", \"15\", \"16\", \"17\", \"18\", \"19\", \"20\", \"21\", \"22\", \"23\", \"24\", \"25\", \"26\", \"27\", \"28\", \"29\", \"30\", \"31\", \"32\", \"33\", \"34\", \"38\", \"39\"], \"mode\": \"markers\", \"name\": \"AUC_micro\", \"stepped\": false, \"type\": \"scatter\", \"data\": [0.9035422116527941, 0.9042166732725592, 0.9058911348923239, 0.8704077156823887, 0.9103941075439291, 0.9109496630994848, 0.903348262650284, 0.8959067247985202, 0.8684544854009777, 0.8096416963931828, 0.8731035803937113, 0.8897644338750166, 0.894199233716475, 0.8848385519883737, 0.8997411811335713, 0.6464215880565465, 0.8715967763244814, 0.8508952305456466, 0.8998873034746995, 0.9104369137270446, 0.9062302814110186, 0.8506963931827188, 0.9076415642753336, 0.9172302814110186, 0.9012010833663628, 0.6563474699431895, 0.9090334258158277, 0.8314876469811072, 0.8850256308627296, 0.9181737349715947, 0.9164583168186023, 0.8643045316422249, 0.9148014268727704, 0.8812020742502312, 0.8857839873166865, 0.9198404016382614, 0.8983433742898665]}, {\"categories\": [\"0\", \"1\", \"2\", \"3\", \"4\", \"5\", \"6\", \"7\", \"8\", \"9\", \"10\", \"11\", \"12\", \"13\", \"14\", \"15\", \"16\", \"17\", \"18\", \"19\", \"20\", \"21\", \"22\", \"23\", \"24\", \"25\", \"26\", \"27\", \"28\", \"29\", \"30\", \"31\", \"32\", \"33\", \"34\", \"38\", \"39\"], \"mode\": \"lines\", \"name\": \"AUC_micro_max\", \"stepped\": true, \"type\": \"scatter\", \"data\": [0.9035422116527941, 0.9042166732725592, 0.9058911348923239, 0.9058911348923239, 0.9103941075439291, 0.9109496630994848, 0.9109496630994848, 0.9109496630994848, 0.9109496630994848, 0.9109496630994848, 0.9109496630994848, 0.9109496630994848, 0.9109496630994848, 0.9109496630994848, 0.9109496630994848, 0.9109496630994848, 0.9109496630994848, 0.9109496630994848, 0.9109496630994848, 0.9109496630994848, 0.9109496630994848, 0.9109496630994848, 0.9109496630994848, 0.9172302814110186, 0.9172302814110186, 0.9172302814110186, 0.9172302814110186, 0.9172302814110186, 0.9172302814110186, 0.9181737349715947, 0.9181737349715947, 0.9181737349715947, 0.9181737349715947, 0.9181737349715947, 0.9181737349715947, 0.9198404016382614, 0.9198404016382614]}], \"average_precision_score_micro\": [{\"categories\": [\"0\", \"1\", \"2\", \"3\", \"4\", \"5\", \"6\", \"7\", \"8\", \"9\", \"10\", \"11\", \"12\", \"13\", \"14\", \"15\", \"16\", \"17\", \"18\", \"19\", \"20\", \"21\", \"22\", \"23\", \"24\", \"25\", \"26\", \"27\", \"28\", \"29\", \"30\", \"31\", \"32\", \"33\", \"34\", \"38\", \"39\"], \"mode\": \"markers\", \"name\": \"average_precision_score_micro\", \"stepped\": false, \"type\": \"scatter\", \"data\": [0.9020054536251629, 0.9033793522124445, 0.9096387264422516, 0.8756766747709273, 0.9149459418988805, 0.9076052185017094, 0.9043155165413875, 0.8933924549114638, 0.8731359196012916, 0.7964089391804331, 0.8781815436921947, 0.8880009077501395, 0.8939019500913817, 0.8887660458331259, 0.9042420953066292, 0.6466874753087125, 0.8784969977718731, 0.8523543557214618, 0.9002313713952563, 0.9145380507917885, 0.9086482420347517, 0.8448931798637108, 0.9060589804260687, 0.9178489517043615, 0.9049791547516959, 0.6491587055637764, 0.9067102044249504, 0.847334298201066, 0.8922539134061221, 0.9235121075136264, 0.9199552130346007, 0.8622069868095963, 0.9187882474770317, 0.8864841627645937, 0.8895660022112726, 0.9247045644297183, 0.9059656779544824]}, {\"categories\": [\"0\", \"1\", \"2\", \"3\", \"4\", \"5\", \"6\", \"7\", \"8\", \"9\", \"10\", \"11\", \"12\", \"13\", \"14\", \"15\", \"16\", \"17\", \"18\", \"19\", \"20\", \"21\", \"22\", \"23\", \"24\", \"25\", \"26\", \"27\", \"28\", \"29\", \"30\", \"31\", \"32\", \"33\", \"34\", \"38\", \"39\"], \"mode\": \"lines\", \"name\": \"average_precision_score_micro_max\", \"stepped\": true, \"type\": \"scatter\", \"data\": [0.9020054536251629, 0.9033793522124445, 0.9096387264422516, 0.9096387264422516, 0.9149459418988805, 0.9149459418988805, 0.9149459418988805, 0.9149459418988805, 0.9149459418988805, 0.9149459418988805, 0.9149459418988805, 0.9149459418988805, 0.9149459418988805, 0.9149459418988805, 0.9149459418988805, 0.9149459418988805, 0.9149459418988805, 0.9149459418988805, 0.9149459418988805, 0.9149459418988805, 0.9149459418988805, 0.9149459418988805, 0.9149459418988805, 0.9178489517043615, 0.9178489517043615, 0.9178489517043615, 0.9178489517043615, 0.9178489517043615, 0.9178489517043615, 0.9235121075136264, 0.9235121075136264, 0.9235121075136264, 0.9235121075136264, 0.9235121075136264, 0.9235121075136264, 0.9247045644297183, 0.9247045644297183]}], \"accuracy\": [{\"categories\": [\"0\", \"1\", \"2\", \"3\", \"4\", \"5\", \"6\", \"7\", \"8\", \"9\", \"10\", \"11\", \"12\", \"13\", \"14\", \"15\", \"16\", \"17\", \"18\", \"19\", \"20\", \"21\", \"22\", \"23\", \"24\", \"25\", \"26\", \"27\", \"28\", \"29\", \"30\", \"31\", \"32\", \"33\", \"34\", \"38\", \"39\"], \"mode\": \"markers\", \"name\": \"accuracy\", \"stepped\": false, \"type\": \"scatter\", \"data\": [0.8359770114942527, 0.8358620689655172, 0.8328735632183909, 0.7960919540229885, 0.8391954022988506, 0.8358620689655172, 0.8191954022988505, 0.8462068965517242, 0.7894252873563219, 0.7659770114942528, 0.7994252873563219, 0.8362068965517242, 0.8021839080459771, 0.8258620689655173, 0.8021839080459771, 0.6389655172413793, 0.7894252873563218, 0.8091954022988505, 0.8191954022988506, 0.8258620689655173, 0.8394252873563218, 0.789080459770115, 0.8394252873563218, 0.8458620689655172, 0.8327586206896551, 0.6322988505747127, 0.8326436781609197, 0.7025287356321839, 0.7994252873563219, 0.8493103448275863, 0.8495402298850575, 0.792528735632184, 0.8360919540229885, 0.8126436781609195, 0.8293103448275861, 0.8462068965517242, 0.7991954022988506]}, {\"categories\": [\"0\", \"1\", \"2\", \"3\", \"4\", \"5\", \"6\", \"7\", \"8\", \"9\", \"10\", \"11\", \"12\", \"13\", \"14\", \"15\", \"16\", \"17\", \"18\", \"19\", \"20\", \"21\", \"22\", \"23\", \"24\", \"25\", \"26\", \"27\", \"28\", \"29\", \"30\", \"31\", \"32\", \"33\", \"34\", \"38\", \"39\"], \"mode\": \"lines\", \"name\": \"accuracy_max\", \"stepped\": true, \"type\": \"scatter\", \"data\": [0.8359770114942527, 0.8359770114942527, 0.8359770114942527, 0.8359770114942527, 0.8391954022988506, 0.8391954022988506, 0.8391954022988506, 0.8462068965517242, 0.8462068965517242, 0.8462068965517242, 0.8462068965517242, 0.8462068965517242, 0.8462068965517242, 0.8462068965517242, 0.8462068965517242, 0.8462068965517242, 0.8462068965517242, 0.8462068965517242, 0.8462068965517242, 0.8462068965517242, 0.8462068965517242, 0.8462068965517242, 0.8462068965517242, 0.8462068965517242, 0.8462068965517242, 0.8462068965517242, 0.8462068965517242, 0.8462068965517242, 0.8462068965517242, 0.8493103448275863, 0.8495402298850575, 0.8495402298850575, 0.8495402298850575, 0.8495402298850575, 0.8495402298850575, 0.8495402298850575, 0.8495402298850575]}], \"recall_score_weighted\": [{\"categories\": [\"0\", \"1\", \"2\", \"3\", \"4\", \"5\", \"6\", \"7\", \"8\", \"9\", \"10\", \"11\", \"12\", \"13\", \"14\", \"15\", \"16\", \"17\", \"18\", \"19\", \"20\", \"21\", \"22\", \"23\", \"24\", \"25\", \"26\", \"27\", \"28\", \"29\", \"30\", \"31\", \"32\", \"33\", \"34\", \"38\", \"39\"], \"mode\": \"markers\", \"name\": \"recall_score_weighted\", \"stepped\": false, \"type\": \"scatter\", \"data\": [0.8359770114942527, 0.8358620689655172, 0.8328735632183909, 0.7960919540229885, 0.8391954022988506, 0.8358620689655172, 0.8191954022988505, 0.8462068965517242, 0.7894252873563219, 0.7659770114942528, 0.7994252873563219, 0.8362068965517242, 0.8021839080459771, 0.8258620689655173, 0.8021839080459771, 0.6389655172413793, 0.7894252873563218, 0.8091954022988505, 0.8191954022988506, 0.8258620689655173, 0.8394252873563218, 0.789080459770115, 0.8394252873563218, 0.8458620689655172, 0.8327586206896551, 0.6322988505747127, 0.8326436781609197, 0.7025287356321839, 0.7994252873563219, 0.8493103448275863, 0.8495402298850575, 0.792528735632184, 0.8360919540229885, 0.8126436781609195, 0.8293103448275861, 0.8462068965517242, 0.7991954022988506]}, {\"categories\": [\"0\", \"1\", \"2\", \"3\", \"4\", \"5\", \"6\", \"7\", \"8\", \"9\", \"10\", \"11\", \"12\", \"13\", \"14\", \"15\", \"16\", \"17\", \"18\", \"19\", \"20\", \"21\", \"22\", \"23\", \"24\", \"25\", \"26\", \"27\", \"28\", \"29\", \"30\", \"31\", \"32\", \"33\", \"34\", \"38\", \"39\"], \"mode\": \"lines\", \"name\": \"recall_score_weighted_max\", \"stepped\": true, \"type\": \"scatter\", \"data\": [0.8359770114942527, 0.8359770114942527, 0.8359770114942527, 0.8359770114942527, 0.8391954022988506, 0.8391954022988506, 0.8391954022988506, 0.8462068965517242, 0.8462068965517242, 0.8462068965517242, 0.8462068965517242, 0.8462068965517242, 0.8462068965517242, 0.8462068965517242, 0.8462068965517242, 0.8462068965517242, 0.8462068965517242, 0.8462068965517242, 0.8462068965517242, 0.8462068965517242, 0.8462068965517242, 0.8462068965517242, 0.8462068965517242, 0.8462068965517242, 0.8462068965517242, 0.8462068965517242, 0.8462068965517242, 0.8462068965517242, 0.8462068965517242, 0.8493103448275863, 0.8495402298850575, 0.8495402298850575, 0.8495402298850575, 0.8495402298850575, 0.8495402298850575, 0.8495402298850575, 0.8495402298850575]}], \"f1_score_macro\": [{\"categories\": [\"0\", \"1\", \"2\", \"3\", \"4\", \"5\", \"6\", \"7\", \"8\", \"9\", \"10\", \"11\", \"12\", \"13\", \"14\", \"15\", \"16\", \"17\", \"18\", \"19\", \"20\", \"21\", \"22\", \"23\", \"24\", \"25\", \"26\", \"27\", \"28\", \"29\", \"30\", \"31\", \"32\", \"33\", \"34\", \"38\", \"39\"], \"mode\": \"markers\", \"name\": \"f1_score_macro\", \"stepped\": false, \"type\": \"scatter\", \"data\": [0.8043314151248963, 0.8078501228997539, 0.801180092352608, 0.7244173061172583, 0.8105952743729613, 0.8050913888507708, 0.7902199962195502, 0.807523021933777, 0.713450337407958, 0.6844538166645457, 0.7274240394429519, 0.7884710849418479, 0.7790304078042544, 0.790425464536926, 0.7753148133073033, 0.5251633085767229, 0.7027376834743342, 0.775546090050194, 0.7958037461435955, 0.7859560894600321, 0.8082914507147765, 0.7557403473229295, 0.8051034189233139, 0.814167650201892, 0.7812341604184592, 0.48167060531127986, 0.8011487554473099, 0.4714787051275791, 0.7273437546483814, 0.8110227447094986, 0.8212762201988945, 0.7627173409308519, 0.7947755896564273, 0.7751900148123846, 0.7943224567256801, 0.815716803058639, 0.715545639616671]}, {\"categories\": [\"0\", \"1\", \"2\", \"3\", \"4\", \"5\", \"6\", \"7\", \"8\", \"9\", \"10\", \"11\", \"12\", \"13\", \"14\", \"15\", \"16\", \"17\", \"18\", \"19\", \"20\", \"21\", \"22\", \"23\", \"24\", \"25\", \"26\", \"27\", \"28\", \"29\", \"30\", \"31\", \"32\", \"33\", \"34\", \"38\", \"39\"], \"mode\": \"lines\", \"name\": \"f1_score_macro_max\", \"stepped\": true, \"type\": \"scatter\", \"data\": [0.8043314151248963, 0.8078501228997539, 0.8078501228997539, 0.8078501228997539, 0.8105952743729613, 0.8105952743729613, 0.8105952743729613, 0.8105952743729613, 0.8105952743729613, 0.8105952743729613, 0.8105952743729613, 0.8105952743729613, 0.8105952743729613, 0.8105952743729613, 0.8105952743729613, 0.8105952743729613, 0.8105952743729613, 0.8105952743729613, 0.8105952743729613, 0.8105952743729613, 0.8105952743729613, 0.8105952743729613, 0.8105952743729613, 0.814167650201892, 0.814167650201892, 0.814167650201892, 0.814167650201892, 0.814167650201892, 0.814167650201892, 0.814167650201892, 0.8212762201988945, 0.8212762201988945, 0.8212762201988945, 0.8212762201988945, 0.8212762201988945, 0.8212762201988945, 0.8212762201988945]}], \"precision_score_macro\": [{\"categories\": [\"0\", \"1\", \"2\", \"3\", \"4\", \"5\", \"6\", \"7\", \"8\", \"9\", \"10\", \"11\", \"12\", \"13\", \"14\", \"15\", \"16\", \"17\", \"18\", \"19\", \"20\", \"21\", \"22\", \"23\", \"24\", \"25\", \"26\", \"27\", \"28\", \"29\", \"30\", \"31\", \"32\", \"33\", \"34\", \"38\", \"39\"], \"mode\": \"markers\", \"name\": \"precision_score_macro\", \"stepped\": false, \"type\": \"scatter\", \"data\": [0.8167365852764965, 0.8232986049897815, 0.8202478590250329, 0.8310046459176895, 0.8171515700483092, 0.8353066517881095, 0.7944507138887944, 0.8546321251635897, 0.8042693502150022, 0.7703082497212932, 0.8410606165171381, 0.8482441778282739, 0.777019097173896, 0.8168670354245297, 0.7805983791824752, 0.5543597592139792, 0.8387155819221036, 0.7767878709454796, 0.793540462020742, 0.8096246520451326, 0.8225251081347125, 0.7642062275174909, 0.8251688546960286, 0.8251319586845902, 0.8553329070920604, 0.5105332722832723, 0.8096494055461447, 0.5978735632183908, 0.8445136240571024, 0.8509806397306396, 0.8394312873752234, 0.7717295219830049, 0.8340391357009004, 0.8031677508788155, 0.8217141086411681, 0.8435523499510913, 0.7217030265056581]}, {\"categories\": [\"0\", \"1\", \"2\", \"3\", \"4\", \"5\", \"6\", \"7\", \"8\", \"9\", \"10\", \"11\", \"12\", \"13\", \"14\", \"15\", \"16\", \"17\", \"18\", \"19\", \"20\", \"21\", \"22\", \"23\", \"24\", \"25\", \"26\", \"27\", \"28\", \"29\", \"30\", \"31\", \"32\", \"33\", \"34\", \"38\", \"39\"], \"mode\": \"lines\", \"name\": \"precision_score_macro_max\", \"stepped\": true, \"type\": \"scatter\", \"data\": [0.8167365852764965, 0.8232986049897815, 0.8232986049897815, 0.8310046459176895, 0.8310046459176895, 0.8353066517881095, 0.8353066517881095, 0.8546321251635897, 0.8546321251635897, 0.8546321251635897, 0.8546321251635897, 0.8546321251635897, 0.8546321251635897, 0.8546321251635897, 0.8546321251635897, 0.8546321251635897, 0.8546321251635897, 0.8546321251635897, 0.8546321251635897, 0.8546321251635897, 0.8546321251635897, 0.8546321251635897, 0.8546321251635897, 0.8546321251635897, 0.8553329070920604, 0.8553329070920604, 0.8553329070920604, 0.8553329070920604, 0.8553329070920604, 0.8553329070920604, 0.8553329070920604, 0.8553329070920604, 0.8553329070920604, 0.8553329070920604, 0.8553329070920604, 0.8553329070920604, 0.8553329070920604]}], \"norm_macro_recall\": [{\"categories\": [\"0\", \"1\", \"2\", \"3\", \"4\", \"5\", \"6\", \"7\", \"8\", \"9\", \"10\", \"11\", \"12\", \"13\", \"14\", \"15\", \"16\", \"17\", \"18\", \"19\", \"20\", \"21\", \"22\", \"23\", \"24\", \"25\", \"26\", \"27\", \"28\", \"29\", \"30\", \"31\", \"32\", \"33\", \"34\", \"38\", \"39\"], \"mode\": \"markers\", \"name\": \"norm_macro_recall\", \"stepped\": false, \"type\": \"scatter\", \"data\": [0.6154165791620023, 0.626049804187676, 0.6102066414389069, 0.42392294553907817, 0.64130264643823, 0.6166147582394721, 0.5941992365630809, 0.5907547731317754, 0.41501054513754737, 0.3560714227928186, 0.42703880914407233, 0.5521379527540855, 0.6186942694351162, 0.5866106834939787, 0.5977516724948074, 0.1267612930547713, 0.39235349160120325, 0.581298759910316, 0.6477446927595668, 0.5662958359337078, 0.6271084356147285, 0.550016527649823, 0.606649561155854, 0.6366142076205005, 0.526926002423714, 0.08798658949745908, 0.6235181852853477, 0.0742063492063492, 0.4444576857162669, 0.6101180487450509, 0.6530781325844256, 0.5780579701889771, 0.5817305401184119, 0.5547564266397218, 0.591296640811515, 0.6298016079394798, 0.47257475870176097]}, {\"categories\": [\"0\", \"1\", \"2\", \"3\", \"4\", \"5\", \"6\", \"7\", \"8\", \"9\", \"10\", \"11\", \"12\", \"13\", \"14\", \"15\", \"16\", \"17\", \"18\", \"19\", \"20\", \"21\", \"22\", \"23\", \"24\", \"25\", \"26\", \"27\", \"28\", \"29\", \"30\", \"31\", \"32\", \"33\", \"34\", \"38\", \"39\"], \"mode\": \"lines\", \"name\": \"norm_macro_recall_max\", \"stepped\": true, \"type\": \"scatter\", \"data\": [0.6154165791620023, 0.626049804187676, 0.626049804187676, 0.626049804187676, 0.64130264643823, 0.64130264643823, 0.64130264643823, 0.64130264643823, 0.64130264643823, 0.64130264643823, 0.64130264643823, 0.64130264643823, 0.64130264643823, 0.64130264643823, 0.64130264643823, 0.64130264643823, 0.64130264643823, 0.64130264643823, 0.6477446927595668, 0.6477446927595668, 0.6477446927595668, 0.6477446927595668, 0.6477446927595668, 0.6477446927595668, 0.6477446927595668, 0.6477446927595668, 0.6477446927595668, 0.6477446927595668, 0.6477446927595668, 0.6477446927595668, 0.6530781325844256, 0.6530781325844256, 0.6530781325844256, 0.6530781325844256, 0.6530781325844256, 0.6530781325844256, 0.6530781325844256]}], \"average_precision_score_weighted\": [{\"categories\": [\"0\", \"1\", \"2\", \"3\", \"4\", \"5\", \"6\", \"7\", \"8\", \"9\", \"10\", \"11\", \"12\", \"13\", \"14\", \"15\", \"16\", \"17\", \"18\", \"19\", \"20\", \"21\", \"22\", \"23\", \"24\", \"25\", \"26\", \"27\", \"28\", \"29\", \"30\", \"31\", \"32\", \"33\", \"34\", \"38\", \"39\"], \"mode\": \"markers\", \"name\": \"average_precision_score_weighted\", \"stepped\": false, \"type\": \"scatter\", \"data\": [0.9061112830231934, 0.907154018724502, 0.9180277075049756, 0.8928205215329028, 0.9212648094994031, 0.9120776163689286, 0.9123285787586957, 0.9019517700957633, 0.8869276603997024, 0.7960613547349917, 0.8955907167994971, 0.9036027097047326, 0.9147921251310072, 0.8916455354013104, 0.9181893312609398, 0.6358285919365991, 0.9059420669277408, 0.8610900330289748, 0.9156424971455174, 0.9235801903509394, 0.9118669413712924, 0.8576233280067956, 0.9102326653876783, 0.9216855732262955, 0.9154965974266698, 0.6118680868376705, 0.9135520764732254, 0.8858347630289444, 0.9107511574973399, 0.9260427554694235, 0.9216169732414337, 0.8890932320358041, 0.9195014365098177, 0.8912612212099471, 0.8916663984652514, 0.9314080024498187, 0.9284339617495665]}, {\"categories\": [\"0\", \"1\", \"2\", \"3\", \"4\", \"5\", \"6\", \"7\", \"8\", \"9\", \"10\", \"11\", \"12\", \"13\", \"14\", \"15\", \"16\", \"17\", \"18\", \"19\", \"20\", \"21\", \"22\", \"23\", \"24\", \"25\", \"26\", \"27\", \"28\", \"29\", \"30\", \"31\", \"32\", \"33\", \"34\", \"38\", \"39\"], \"mode\": \"lines\", \"name\": \"average_precision_score_weighted_max\", \"stepped\": true, \"type\": \"scatter\", \"data\": [0.9061112830231934, 0.907154018724502, 0.9180277075049756, 0.9180277075049756, 0.9212648094994031, 0.9212648094994031, 0.9212648094994031, 0.9212648094994031, 0.9212648094994031, 0.9212648094994031, 0.9212648094994031, 0.9212648094994031, 0.9212648094994031, 0.9212648094994031, 0.9212648094994031, 0.9212648094994031, 0.9212648094994031, 0.9212648094994031, 0.9212648094994031, 0.9235801903509394, 0.9235801903509394, 0.9235801903509394, 0.9235801903509394, 0.9235801903509394, 0.9235801903509394, 0.9235801903509394, 0.9235801903509394, 0.9235801903509394, 0.9235801903509394, 0.9260427554694235, 0.9260427554694235, 0.9260427554694235, 0.9260427554694235, 0.9260427554694235, 0.9260427554694235, 0.9314080024498187, 0.9314080024498187]}], \"balanced_accuracy\": [{\"categories\": [\"0\", \"1\", \"2\", \"3\", \"4\", \"5\", \"6\", \"7\", \"8\", \"9\", \"10\", \"11\", \"12\", \"13\", \"14\", \"15\", \"16\", \"17\", \"18\", \"19\", \"20\", \"21\", \"22\", \"23\", \"24\", \"25\", \"26\", \"27\", \"28\", \"29\", \"30\", \"31\", \"32\", \"33\", \"34\", \"38\", \"39\"], \"mode\": \"markers\", \"name\": \"balanced_accuracy\", \"stepped\": false, \"type\": \"scatter\", \"data\": [0.8077082895810014, 0.8130249020938379, 0.8051033207194533, 0.711961472769539, 0.8206513232191149, 0.808307379119736, 0.7970996182815404, 0.7953773865658877, 0.7075052725687737, 0.6780357113964093, 0.7135194045720362, 0.7760689763770428, 0.8093471347175581, 0.7933053417469893, 0.7988758362474038, 0.5513534193685796, 0.6961767458006017, 0.7906493799551579, 0.8238723463797835, 0.7831479179668539, 0.8135542178073643, 0.7750082638249115, 0.803324780577927, 0.8183071038102504, 0.7634630012118572, 0.5157612563193228, 0.811759092642674, 0.5371031746031745, 0.7222288428581335, 0.8050590243725255, 0.8265390662922126, 0.7890289850944885, 0.790865270059206, 0.7773782133198608, 0.7956483204057574, 0.8149008039697397, 0.7362873793508805]}, {\"categories\": [\"0\", \"1\", \"2\", \"3\", \"4\", \"5\", \"6\", \"7\", \"8\", \"9\", \"10\", \"11\", \"12\", \"13\", \"14\", \"15\", \"16\", \"17\", \"18\", \"19\", \"20\", \"21\", \"22\", \"23\", \"24\", \"25\", \"26\", \"27\", \"28\", \"29\", \"30\", \"31\", \"32\", \"33\", \"34\", \"38\", \"39\"], \"mode\": \"lines\", \"name\": \"balanced_accuracy_max\", \"stepped\": true, \"type\": \"scatter\", \"data\": [0.8077082895810014, 0.8130249020938379, 0.8130249020938379, 0.8130249020938379, 0.8206513232191149, 0.8206513232191149, 0.8206513232191149, 0.8206513232191149, 0.8206513232191149, 0.8206513232191149, 0.8206513232191149, 0.8206513232191149, 0.8206513232191149, 0.8206513232191149, 0.8206513232191149, 0.8206513232191149, 0.8206513232191149, 0.8206513232191149, 0.8238723463797835, 0.8238723463797835, 0.8238723463797835, 0.8238723463797835, 0.8238723463797835, 0.8238723463797835, 0.8238723463797835, 0.8238723463797835, 0.8238723463797835, 0.8238723463797835, 0.8238723463797835, 0.8238723463797835, 0.8265390662922126, 0.8265390662922126, 0.8265390662922126, 0.8265390662922126, 0.8265390662922126, 0.8265390662922126, 0.8265390662922126]}], \"f1_score_weighted\": [{\"categories\": [\"0\", \"1\", \"2\", \"3\", \"4\", \"5\", \"6\", \"7\", \"8\", \"9\", \"10\", \"11\", \"12\", \"13\", \"14\", \"15\", \"16\", \"17\", \"18\", \"19\", \"20\", \"21\", \"22\", \"23\", \"24\", \"25\", \"26\", \"27\", \"28\", \"29\", \"30\", \"31\", \"32\", \"33\", \"34\", \"38\", \"39\"], \"mode\": \"markers\", \"name\": \"f1_score_weighted\", \"stepped\": false, \"type\": \"scatter\", \"data\": [0.8333388901455894, 0.8342588560383983, 0.82962265136606, 0.7728706842383234, 0.83930434495371, 0.8319948763857408, 0.8196614026321052, 0.8392221990177091, 0.7661104260740647, 0.743922190318357, 0.7757763692696239, 0.8249370946300194, 0.809096009249218, 0.8228481726136373, 0.8053894177877527, 0.6071892452709331, 0.7584752584405756, 0.8112434602774948, 0.8241601797982778, 0.8208423832388133, 0.8373075182810474, 0.7917304322866381, 0.8361953793463488, 0.8444692530417048, 0.8197289222696942, 0.5786741530934885, 0.8315891591698511, 0.6012070505523693, 0.77296934277878, 0.8422520035815223, 0.8462809191946963, 0.7966623210665318, 0.8295636368948889, 0.8086766132362764, 0.8258094543942279, 0.8412425367416407, 0.771962625322271]}, {\"categories\": [\"0\", \"1\", \"2\", \"3\", \"4\", \"5\", \"6\", \"7\", \"8\", \"9\", \"10\", \"11\", \"12\", \"13\", \"14\", \"15\", \"16\", \"17\", \"18\", \"19\", \"20\", \"21\", \"22\", \"23\", \"24\", \"25\", \"26\", \"27\", \"28\", \"29\", \"30\", \"31\", \"32\", \"33\", \"34\", \"38\", \"39\"], \"mode\": \"lines\", \"name\": \"f1_score_weighted_max\", \"stepped\": true, \"type\": \"scatter\", \"data\": [0.8333388901455894, 0.8342588560383983, 0.8342588560383983, 0.8342588560383983, 0.83930434495371, 0.83930434495371, 0.83930434495371, 0.83930434495371, 0.83930434495371, 0.83930434495371, 0.83930434495371, 0.83930434495371, 0.83930434495371, 0.83930434495371, 0.83930434495371, 0.83930434495371, 0.83930434495371, 0.83930434495371, 0.83930434495371, 0.83930434495371, 0.83930434495371, 0.83930434495371, 0.83930434495371, 0.8444692530417048, 0.8444692530417048, 0.8444692530417048, 0.8444692530417048, 0.8444692530417048, 0.8444692530417048, 0.8444692530417048, 0.8462809191946963, 0.8462809191946963, 0.8462809191946963, 0.8462809191946963, 0.8462809191946963, 0.8462809191946963, 0.8462809191946963]}], \"f1_score_micro\": [{\"categories\": [\"0\", \"1\", \"2\", \"3\", \"4\", \"5\", \"6\", \"7\", \"8\", \"9\", \"10\", \"11\", \"12\", \"13\", \"14\", \"15\", \"16\", \"17\", \"18\", \"19\", \"20\", \"21\", \"22\", \"23\", \"24\", \"25\", \"26\", \"27\", \"28\", \"29\", \"30\", \"31\", \"32\", \"33\", \"34\", \"38\", \"39\"], \"mode\": \"markers\", \"name\": \"f1_score_micro\", \"stepped\": false, \"type\": \"scatter\", \"data\": [0.8359770114942527, 0.8358620689655172, 0.8328735632183909, 0.7960919540229885, 0.8391954022988506, 0.8358620689655172, 0.8191954022988506, 0.8462068965517242, 0.7894252873563219, 0.7659770114942528, 0.7994252873563219, 0.8362068965517242, 0.8021839080459771, 0.8258620689655173, 0.8021839080459771, 0.6389655172413793, 0.7894252873563218, 0.8091954022988505, 0.8191954022988506, 0.8258620689655173, 0.8394252873563218, 0.789080459770115, 0.8394252873563218, 0.8458620689655172, 0.8327586206896551, 0.6322988505747127, 0.8326436781609197, 0.7025287356321839, 0.7994252873563219, 0.8493103448275863, 0.8495402298850576, 0.792528735632184, 0.8360919540229885, 0.8126436781609195, 0.8293103448275861, 0.8462068965517242, 0.7991954022988506]}, {\"categories\": [\"0\", \"1\", \"2\", \"3\", \"4\", \"5\", \"6\", \"7\", \"8\", \"9\", \"10\", \"11\", \"12\", \"13\", \"14\", \"15\", \"16\", \"17\", \"18\", \"19\", \"20\", \"21\", \"22\", \"23\", \"24\", \"25\", \"26\", \"27\", \"28\", \"29\", \"30\", \"31\", \"32\", \"33\", \"34\", \"38\", \"39\"], \"mode\": \"lines\", \"name\": \"f1_score_micro_max\", \"stepped\": true, \"type\": \"scatter\", \"data\": [0.8359770114942527, 0.8359770114942527, 0.8359770114942527, 0.8359770114942527, 0.8391954022988506, 0.8391954022988506, 0.8391954022988506, 0.8462068965517242, 0.8462068965517242, 0.8462068965517242, 0.8462068965517242, 0.8462068965517242, 0.8462068965517242, 0.8462068965517242, 0.8462068965517242, 0.8462068965517242, 0.8462068965517242, 0.8462068965517242, 0.8462068965517242, 0.8462068965517242, 0.8462068965517242, 0.8462068965517242, 0.8462068965517242, 0.8462068965517242, 0.8462068965517242, 0.8462068965517242, 0.8462068965517242, 0.8462068965517242, 0.8462068965517242, 0.8493103448275863, 0.8495402298850576, 0.8495402298850576, 0.8495402298850576, 0.8495402298850576, 0.8495402298850576, 0.8495402298850576, 0.8495402298850576]}], \"log_loss\": [{\"categories\": [\"0\", \"1\", \"2\", \"3\", \"4\", \"5\", \"6\", \"7\", \"8\", \"9\", \"10\", \"11\", \"12\", \"13\", \"14\", \"15\", \"16\", \"17\", \"18\", \"19\", \"20\", \"21\", \"22\", \"23\", \"24\", \"25\", \"26\", \"27\", \"28\", \"29\", \"30\", \"31\", \"32\", \"33\", \"34\", \"38\", \"39\"], \"mode\": \"markers\", \"name\": \"log_loss\", \"stepped\": false, \"type\": \"scatter\", \"data\": [0.4772179826627182, 0.41764279466886123, 0.3878131217742847, 0.4677767538870225, 0.37701808422327293, 0.3966702310252992, 0.4899699823140201, 0.4077946279858299, 0.4730340298104667, 1.2837639362986895, 0.4711039567987729, 0.4426239573621557, 0.43221622547946054, 0.41848977244409874, 0.4341904318340686, 0.7617709563916407, 0.4783276077193911, 0.6372774583444927, 0.5199654661992736, 0.4652367527361444, 0.3792131958213502, 0.5306036726144064, 0.4686822024534737, 0.3623332031126648, 0.4327312858335869, 0.6784357214158538, 0.41452507454126575, 0.5528108867980152, 0.4492591304456618, 0.39256603532818934, 0.3678255666280191, 0.4620896460886126, 0.3723898197370232, 0.42046536135971824, 0.424342030166659, 0.3849103854275011, 0.4584788679519732]}, {\"categories\": [\"0\", \"1\", \"2\", \"3\", \"4\", \"5\", \"6\", \"7\", \"8\", \"9\", \"10\", \"11\", \"12\", \"13\", \"14\", \"15\", \"16\", \"17\", \"18\", \"19\", \"20\", \"21\", \"22\", \"23\", \"24\", \"25\", \"26\", \"27\", \"28\", \"29\", \"30\", \"31\", \"32\", \"33\", \"34\", \"38\", \"39\"], \"mode\": \"lines\", \"name\": \"log_loss_min\", \"stepped\": true, \"type\": \"scatter\", \"data\": [0.4772179826627182, 0.41764279466886123, 0.3878131217742847, 0.3878131217742847, 0.37701808422327293, 0.37701808422327293, 0.37701808422327293, 0.37701808422327293, 0.37701808422327293, 0.37701808422327293, 0.37701808422327293, 0.37701808422327293, 0.37701808422327293, 0.37701808422327293, 0.37701808422327293, 0.37701808422327293, 0.37701808422327293, 0.37701808422327293, 0.37701808422327293, 0.37701808422327293, 0.37701808422327293, 0.37701808422327293, 0.37701808422327293, 0.3623332031126648, 0.3623332031126648, 0.3623332031126648, 0.3623332031126648, 0.3623332031126648, 0.3623332031126648, 0.3623332031126648, 0.3623332031126648, 0.3623332031126648, 0.3623332031126648, 0.3623332031126648, 0.3623332031126648, 0.3623332031126648, 0.3623332031126648]}]}, \"metricName\": null, \"primaryMetricName\": \"AUC_weighted\", \"showLegend\": false}, \"run_metrics\": [{\"name\": \"experiment_status\", \"run_id\": \"AutoML_27cfb90e-112a-4c73-81d0-d49a4d9e1b6e\", \"categories\": [0, 1, 2, 3, 4, 5], \"series\": [{\"data\": [\"DatasetEvaluation\", \"FeaturesGeneration\", \"DatasetFeaturization\", \"DatasetFeaturizationCompleted\", \"DatasetCrossValidationSplit\", \"ModelSelection\"]}]}, {\"name\": \"experiment_status_description\", \"run_id\": \"AutoML_27cfb90e-112a-4c73-81d0-d49a4d9e1b6e\", \"categories\": [0, 1, 2, 3, 4, 5], \"series\": [{\"data\": [\"Gathering dataset statistics.\", \"Generating features for the dataset.\", \"Beginning to fit featurizers and featurize the dataset.\", \"Completed fit featurizers and featurizing the dataset.\", \"Generating individually featurized CV splits.\", \"Beginning model selection.\"]}]}], \"run_logs\": \"\\nRun is completed.\", \"graph\": {}, \"widget_settings\": {\"childWidgetDisplay\": \"popup\", \"send_telemetry\": false, \"log_level\": \"INFO\", \"sdk_version\": \"1.26.0\"}, \"loading\": false}"
          },
          "metadata": {}
        }
      ],
      "execution_count": 7,
      "metadata": {
        "gather": {
          "logged": 1618645468819
        },
        "jupyter": {
          "outputs_hidden": false,
          "source_hidden": false
        },
        "nteract": {
          "transient": {
            "deleting": false
          }
        }
      }
    },
    {
      "cell_type": "code",
      "source": [
        "remote_run.wait_for_completion() "
      ],
      "outputs": [
        {
          "output_type": "execute_result",
          "execution_count": 8,
          "data": {
            "text/plain": "{'runId': 'AutoML_27cfb90e-112a-4c73-81d0-d49a4d9e1b6e',\n 'target': 'my-cluster',\n 'status': 'Completed',\n 'startTimeUtc': '2021-04-17T07:44:44.803668Z',\n 'endTimeUtc': '2021-04-17T08:06:15.703661Z',\n 'properties': {'num_iterations': '1000',\n  'training_type': 'TrainFull',\n  'acquisition_function': 'EI',\n  'primary_metric': 'AUC_weighted',\n  'train_split': '0',\n  'acquisition_parameter': '0',\n  'num_cross_validation': None,\n  'target': 'my-cluster',\n  'AMLSettingsJsonString': '{\"path\":null,\"name\":\"AutoML_experiment\",\"subscription_id\":\"d4ad7261-832d-46b2-b093-22156001df5b\",\"resource_group\":\"aml-quickstarts-142911\",\"workspace_name\":\"quick-starts-ws-142911\",\"region\":\"southcentralus\",\"compute_target\":\"my-cluster\",\"spark_service\":null,\"azure_service\":\"remote\",\"many_models\":false,\"pipeline_fetch_max_batch_size\":1,\"enable_batch_run\":false,\"enable_run_restructure\":false,\"iterations\":1000,\"primary_metric\":\"AUC_weighted\",\"task_type\":\"classification\",\"data_script\":null,\"test_size\":0.0,\"validation_size\":0.0,\"n_cross_validations\":null,\"y_min\":null,\"y_max\":null,\"num_classes\":null,\"featurization\":\"auto\",\"_ignore_package_version_incompatibilities\":false,\"is_timeseries\":false,\"max_cores_per_iteration\":1,\"max_concurrent_iterations\":5,\"iteration_timeout_minutes\":null,\"mem_in_mb\":null,\"enforce_time_on_windows\":false,\"experiment_timeout_minutes\":20,\"experiment_exit_score\":null,\"whitelist_models\":null,\"blacklist_algos\":[\"TensorFlowLinearClassifier\",\"TensorFlowDNN\"],\"supported_models\":[\"MultinomialNaiveBayes\",\"LogisticRegression\",\"SVM\",\"TensorFlowDNN\",\"SGD\",\"GradientBoosting\",\"DecisionTree\",\"XGBoostClassifier\",\"BernoulliNaiveBayes\",\"ExtremeRandomTrees\",\"RandomForest\",\"LightGBM\",\"TensorFlowLinearClassifier\",\"LinearSVM\",\"AveragedPerceptronClassifier\",\"KNN\"],\"private_models\":[],\"auto_blacklist\":true,\"blacklist_samples_reached\":false,\"exclude_nan_labels\":true,\"verbosity\":20,\"_debug_log\":\"azureml_automl.log\",\"show_warnings\":false,\"model_explainability\":true,\"service_url\":null,\"sdk_url\":null,\"sdk_packages\":null,\"enable_onnx_compatible_models\":false,\"enable_split_onnx_featurizer_estimator_models\":false,\"vm_type\":\"STANDARD_D2_V2\",\"telemetry_verbosity\":20,\"send_telemetry\":true,\"enable_dnn\":false,\"scenario\":\"SDK-1.13.0\",\"environment_label\":null,\"save_mlflow\":false,\"force_text_dnn\":false,\"enable_feature_sweeping\":true,\"enable_early_stopping\":true,\"early_stopping_n_iters\":10,\"metrics\":null,\"enable_metric_confidence\":false,\"enable_ensembling\":true,\"enable_stack_ensembling\":true,\"ensemble_iterations\":15,\"enable_tf\":false,\"enable_subsampling\":null,\"subsample_seed\":null,\"enable_nimbusml\":false,\"enable_streaming\":false,\"force_streaming\":false,\"track_child_runs\":true,\"allowed_private_models\":[],\"label_column_name\":\"DEATH_EVENT\",\"weight_column_name\":null,\"cv_split_column_names\":null,\"enable_local_managed\":false,\"_local_managed_run_id\":null,\"cost_mode\":1,\"lag_length\":0,\"metric_operation\":\"maximize\",\"preprocess\":true}',\n  'DataPrepJsonString': '{\\\\\"training_data\\\\\": {\\\\\"datasetId\\\\\": \\\\\"29e3124d-f97e-470a-be95-d2f4f1b33076\\\\\"}, \\\\\"datasets\\\\\": 0}',\n  'EnableSubsampling': None,\n  'runTemplate': 'AutoML',\n  'azureml.runsource': 'automl',\n  'display_task_type': 'classification',\n  'dependencies_versions': '{\"azureml-widgets\": \"1.26.0\", \"azureml-train\": \"1.26.0\", \"azureml-train-restclients-hyperdrive\": \"1.26.0\", \"azureml-train-core\": \"1.26.0\", \"azureml-train-automl\": \"1.26.0\", \"azureml-train-automl-runtime\": \"1.26.0\", \"azureml-train-automl-client\": \"1.26.0\", \"azureml-tensorboard\": \"1.26.0\", \"azureml-telemetry\": \"1.26.0\", \"azureml-sdk\": \"1.26.0\", \"azureml-samples\": \"0+unknown\", \"azureml-pipeline\": \"1.26.0\", \"azureml-pipeline-steps\": \"1.26.0\", \"azureml-pipeline-core\": \"1.26.0\", \"azureml-opendatasets\": \"1.26.0\", \"azureml-model-management-sdk\": \"1.0.1b6.post1\", \"azureml-mlflow\": \"1.26.0\", \"azureml-interpret\": \"1.26.0\", \"azureml-explain-model\": \"1.26.0\", \"azureml-defaults\": \"1.26.0\", \"azureml-dataset-runtime\": \"1.26.0\", \"azureml-dataprep\": \"2.13.2\", \"azureml-dataprep-rslex\": \"1.11.2\", \"azureml-dataprep-native\": \"32.0.0\", \"azureml-datadrift\": \"1.26.0\", \"azureml-core\": \"1.26.0\", \"azureml-contrib-services\": \"1.26.0\", \"azureml-contrib-server\": \"1.26.0\", \"azureml-contrib-reinforcementlearning\": \"1.26.0\", \"azureml-contrib-pipeline-steps\": \"1.26.0\", \"azureml-contrib-notebook\": \"1.26.0\", \"azureml-contrib-gbdt\": \"1.26.0\", \"azureml-contrib-fairness\": \"1.26.0\", \"azureml-contrib-dataset\": \"1.26.0\", \"azureml-cli-common\": \"1.26.0\", \"azureml-automl-runtime\": \"1.26.0\", \"azureml-automl-dnn-nlp\": \"1.26.0\", \"azureml-automl-core\": \"1.26.0\", \"azureml-accel-models\": \"1.26.0\"}',\n  '_aml_system_scenario_identification': 'Remote.Parent',\n  'ClientType': 'SDK',\n  'environment_cpu_name': 'AzureML-AutoML',\n  'environment_cpu_label': 'prod',\n  'environment_gpu_name': 'AzureML-AutoML-GPU',\n  'environment_gpu_label': 'prod',\n  'root_attribution': 'automl',\n  'attribution': 'AutoML',\n  'Orchestrator': 'AutoML',\n  'CancelUri': 'https://southcentralus.experiments.azureml.net/jasmine/v1.0/subscriptions/d4ad7261-832d-46b2-b093-22156001df5b/resourceGroups/aml-quickstarts-142911/providers/Microsoft.MachineLearningServices/workspaces/quick-starts-ws-142911/experimentids/7aaa458f-1dac-4951-8bd4-28a164df6c2b/cancel/AutoML_27cfb90e-112a-4c73-81d0-d49a4d9e1b6e',\n  'ClientSdkVersion': '1.25.0',\n  'snapshotId': '00000000-0000-0000-0000-000000000000',\n  'SetupRunId': 'AutoML_27cfb90e-112a-4c73-81d0-d49a4d9e1b6e_setup',\n  'SetupRunContainerId': 'dcid.AutoML_27cfb90e-112a-4c73-81d0-d49a4d9e1b6e_setup',\n  'FeaturizationRunJsonPath': 'featurizer_container.json',\n  'FeaturizationRunId': 'AutoML_27cfb90e-112a-4c73-81d0-d49a4d9e1b6e_featurize',\n  'ProblemInfoJsonString': '{\"dataset_num_categorical\": 0, \"is_sparse\": false, \"subsampling\": false, \"dataset_classes\": 2, \"dataset_features\": 12, \"dataset_samples\": 299, \"single_frequency_class_detected\": false}',\n  'ModelExplainRunId': 'AutoML_27cfb90e-112a-4c73-81d0-d49a4d9e1b6e_ModelExplain'},\n 'inputDatasets': [{'dataset': {'id': '29e3124d-f97e-470a-be95-d2f4f1b33076'}, 'consumptionDetails': {'type': 'RunInput', 'inputName': 'training_data', 'mechanism': 'Direct'}}],\n 'outputDatasets': [],\n 'logFiles': {},\n 'submittedBy': 'ODL_User 142911'}"
          },
          "metadata": {}
        }
      ],
      "execution_count": 8,
      "metadata": {
        "gather": {
          "logged": 1618646780000
        }
      }
    },
    {
      "cell_type": "markdown",
      "source": [
        "## Best Model\n",
        "\n",
        "In the cell below, get the best model from the automl experiments and display all the properties of the model.\n",
        "\n"
      ],
      "metadata": {}
    },
    {
      "cell_type": "code",
      "source": [
        "best_run, fitted_model = remote_run.get_output() \n",
        "print (best_run) \n",
        "print (fitted_model) "
      ],
      "outputs": [
        {
          "output_type": "stream",
          "name": "stdout",
          "text": [
            "Run(Experiment: AutoML_experiment,\n",
            "Id: AutoML_27cfb90e-112a-4c73-81d0-d49a4d9e1b6e_38,\n",
            "Type: azureml.scriptrun,\n",
            "Status: Completed)\n",
            "Pipeline(memory=None,\n",
            "         steps=[('datatransformer',\n",
            "                 DataTransformer(enable_dnn=None, enable_feature_sweeping=None,\n",
            "                                 feature_sweeping_config=None,\n",
            "                                 feature_sweeping_timeout=None,\n",
            "                                 featurization_config=None, force_text_dnn=None,\n",
            "                                 is_cross_validation=None,\n",
            "                                 is_onnx_compatible=None, logger=None,\n",
            "                                 observer=None, task=None, working_dir=None)),\n",
            "                ('prefittedsoftvotingclassifier',...\n",
            "                                                                                                reg_lambda=0.3157894736842105,\n",
            "                                                                                                silent=True,\n",
            "                                                                                                subsample=0.6436842105263159,\n",
            "                                                                                                subsample_for_bin=200000,\n",
            "                                                                                                subsample_freq=0,\n",
            "                                                                                                verbose=-10))],\n",
            "                                                                     verbose=False))],\n",
            "                                               flatten_transform=None,\n",
            "                                               weights=[0.18181818181818182,\n",
            "                                                        0.18181818181818182,\n",
            "                                                        0.18181818181818182,\n",
            "                                                        0.09090909090909091,\n",
            "                                                        0.09090909090909091,\n",
            "                                                        0.09090909090909091,\n",
            "                                                        0.09090909090909091,\n",
            "                                                        0.09090909090909091]))],\n",
            "         verbose=False)\n"
          ]
        }
      ],
      "execution_count": 9,
      "metadata": {
        "gather": {
          "logged": 1618646972401
        },
        "jupyter": {
          "outputs_hidden": false,
          "source_hidden": false
        },
        "nteract": {
          "transient": {
            "deleting": false
          }
        }
      }
    },
    {
      "cell_type": "code",
      "source": [
        "#Save the best model\n",
        "joblib.dump(fitted_model, \"best_model_auto_ml.model\") "
      ],
      "outputs": [
        {
          "output_type": "execute_result",
          "execution_count": 10,
          "data": {
            "text/plain": "['best_model_auto_ml.model']"
          },
          "metadata": {}
        }
      ],
      "execution_count": 10,
      "metadata": {
        "gather": {
          "logged": 1618646984205
        },
        "jupyter": {
          "outputs_hidden": false,
          "source_hidden": false
        },
        "nteract": {
          "transient": {
            "deleting": false
          }
        }
      }
    },
    {
      "cell_type": "markdown",
      "source": [
        "## Model Deployment\n",
        "\n",
        "The auto ML provided the best mnodel compared to hyperdrive hence we deploy it\n",
        "\n",
        "In the cell below, register the model, create an inference config and deploy the model as a web service."
      ],
      "metadata": {}
    },
    {
      "cell_type": "code",
      "source": [
        "from azureml.core import Model\n",
        "from azureml.core.resource_configuration import ResourceConfiguration\n",
        "\n",
        "model = Model.register(workspace=ws,\n",
        "                       model_name='my-autoML-model',                # Name of the registered model in your workspace.\n",
        "                       model_path='./best_model_auto_ml.model',     # Local file to upload and register as a model.\n",
        "                       resource_configuration=ResourceConfiguration(cpu=1, memory_in_gb=0.5),\n",
        "                       description='VotingEnsemble') # ,\n",
        "                       # tags={'area': 'diabetes', 'type': 'classification'})\n",
        "\n",
        "print('Name:', model.name)\n",
        "print('Version:', model.version)"
      ],
      "outputs": [
        {
          "output_type": "stream",
          "name": "stdout",
          "text": [
            "Registering model my-autoML-model\n",
            "Name: my-autoML-model\n",
            "Version: 1\n"
          ]
        }
      ],
      "execution_count": 11,
      "metadata": {
        "gather": {
          "logged": 1618646992678
        },
        "jupyter": {
          "outputs_hidden": false,
          "source_hidden": false
        },
        "nteract": {
          "transient": {
            "deleting": false
          }
        }
      }
    },
    {
      "cell_type": "code",
      "source": [
        "from azureml.core.model import InferenceConfig\n",
        "from azureml.core.webservice import AciWebservice\n",
        "from azureml.core import Environment\n",
        "\n",
        "environment = Environment.get(workspace=ws, name=\"AzureML-AutoML\")\n",
        "service_name = 'heart-failure-prediction'\n",
        "inference_config = InferenceConfig(entry_script='score.py', environment=environment)\n",
        "aci_config = AciWebservice.deploy_configuration(cpu_cores=1, memory_gb=1)\n",
        "service = Model.deploy(workspace=ws,\n",
        "                      name=service_name,\n",
        "                      models=[model],\n",
        "                      inference_config=inference_config,\n",
        "                      deployment_config=aci_config,\n",
        "                      overwrite=True)\n",
        "\n",
        "service.wait_for_deployment(show_output=True)"
      ],
      "outputs": [
        {
          "output_type": "stream",
          "name": "stdout",
          "text": [
            "Tips: You can try get_logs(): https://aka.ms/debugimage#dockerlog or local deployment: https://aka.ms/debugimage#debug-locally to debug if deployment takes longer than 10 minutes.\n",
            "Running\n",
            "2021-04-17 08:10:12+00:00 Creating Container Registry if not exists..\n",
            "2021-04-17 08:10:28+00:00 Registering the environment..\n",
            "2021-04-17 08:10:29+00:00 Use the existing image.\n",
            "2021-04-17 08:10:29+00:00 Generating deployment configuration.\n",
            "2021-04-17 08:10:30+00:00 Submitting deployment to compute..\n",
            "2021-04-17 08:10:34+00:00 Checking the status of deployment heart-failure-prediction..\n",
            "2021-04-17 08:14:57+00:00 Checking the status of inference endpoint heart-failure-prediction.\n",
            "Succeeded\n",
            "ACI service creation operation finished, operation \"Succeeded\"\n"
          ]
        }
      ],
      "execution_count": 12,
      "metadata": {
        "gather": {
          "logged": 1618647307333
        }
      }
    },
    {
      "cell_type": "markdown",
      "source": [
        "In the cell below, send a request to the web service you deployed to test it."
      ],
      "metadata": {
        "collapsed": true,
        "gather": {
          "logged": 1598431657736
        },
        "jupyter": {
          "outputs_hidden": false,
          "source_hidden": false
        },
        "nteract": {
          "transient": {
            "deleting": false
          }
        }
      }
    },
    {
      "cell_type": "code",
      "source": [
        "import requests\n",
        "import json\n",
        "\n",
        "# URL for the web service, should be similar to:\n",
        "# 'http://8530a665-66f3-49c8-a953-b82a2d312917.eastus.azurecontainer.io/score'\n",
        "scoring_uri = service.scoring_uri\n",
        "\n",
        "# If the service is authenticated, set the key or token\n",
        "key = ''\n",
        "\n",
        "# Two sets of data to score, so we get two results back\n",
        "data = {\"data\":\n",
        "        [\n",
        "          {\n",
        "            \"age\": 53,\n",
        "            \"anaemia\": 0,\n",
        "            \"creatinine_phosphokinase\": 63,\n",
        "            \"diabetes\": 1,\n",
        "            \"ejection_fraction\": 60,\n",
        "            \"high_blood_pressure\": 0,\n",
        "            \"platelets\": 368000,\n",
        "            \"serum_creatinine\": 0.8,\n",
        "            \"serum_sodium\": 137,\n",
        "            \"sex\": 0,\n",
        "            \"smoking\": 0,\n",
        "            \"time\": 16,\n",
        "          },\n",
        "          {\n",
        "            \"age\": 35,\n",
        "            \"anaemia\": 0,\n",
        "            \"creatinine_phosphokinase\": 500,\n",
        "            \"diabetes\": 0,\n",
        "            \"ejection_fraction\": 30,\n",
        "            \"high_blood_pressure\": 0,\n",
        "            \"platelets\": 280000,\n",
        "            \"serum_creatinine\": 2.1,\n",
        "            \"serum_sodium\": 150,\n",
        "            \"sex\": 0,\n",
        "            \"smoking\": 0,\n",
        "            \"time\": 10,\n",
        "          },\n",
        "      ]\n",
        "    }\n",
        "# Convert to JSON string\n",
        "input_data = json.dumps(data)\n",
        "with open(\"data.json\", \"w\") as _f:\n",
        "    _f.write(input_data)\n",
        "\n",
        "# Set the content type\n",
        "headers = {'Content-Type': 'application/json'}\n",
        "# If authentication is enabled, set the authorization header\n",
        "# headers['Authorization'] = f'Bearer {key}'\n",
        "\n",
        "# Make the request and display the response\n",
        "resp = requests.post(scoring_uri, input_data, headers=headers)\n",
        "print(\"Request: \" + str(data['data'][0]))\n",
        "print(\"Response: Death_event = %s\"%(\"True\" if resp.json()[0]==1 else \"False\"))\n",
        "print()\n",
        "print(\"Request: \" + str(data['data'][1]))\n",
        "print(\"Response: Death_event = %s\"%(\"True\" if resp.json()[1]==1 else \"False\"))"
      ],
      "outputs": [
        {
          "output_type": "stream",
          "name": "stdout",
          "text": [
            "Request: {'age': 53, 'anaemia': 0, 'creatinine_phosphokinase': 63, 'diabetes': 1, 'ejection_fraction': 60, 'high_blood_pressure': 0, 'platelets': 368000, 'serum_creatinine': 0.8, 'serum_sodium': 137, 'sex': 0, 'smoking': 0, 'time': 16}\n",
            "Response: Death_event = False\n",
            "\n",
            "Request: {'age': 35, 'anaemia': 0, 'creatinine_phosphokinase': 500, 'diabetes': 0, 'ejection_fraction': 30, 'high_blood_pressure': 0, 'platelets': 280000, 'serum_creatinine': 2.1, 'serum_sodium': 150, 'sex': 0, 'smoking': 0, 'time': 10}\n",
            "Response: Death_event = True\n"
          ]
        }
      ],
      "execution_count": 13,
      "metadata": {
        "gather": {
          "logged": 1618648112755
        },
        "jupyter": {
          "outputs_hidden": false,
          "source_hidden": false
        },
        "nteract": {
          "transient": {
            "deleting": false
          }
        }
      }
    },
    {
      "cell_type": "markdown",
      "source": [
        "In the cell below, print the logs of the web service and delete the service"
      ],
      "metadata": {
        "collapsed": true,
        "gather": {
          "logged": 1598432765711
        },
        "jupyter": {
          "outputs_hidden": false,
          "source_hidden": false
        },
        "nteract": {
          "transient": {
            "deleting": false
          }
        }
      }
    },
    {
      "cell_type": "code",
      "source": [
        "print(service.get_logs(num_lines=20))\n",
        "\n",
        "service.delete()\n",
        "\n",
        "AmlCompute.delete(cpu_cluster)"
      ],
      "outputs": [
        {
          "output_type": "stream",
          "name": "stdout",
          "text": [
            "2021-04-17 08:14:55,445 | root | INFO | Starting up app insights client\n",
            "2021-04-17 08:14:55,449 | root | INFO | Starting up request id generator\n",
            "2021-04-17 08:14:55,450 | root | INFO | Starting up app insight hooks\n",
            "2021-04-17 08:14:55,450 | root | INFO | Invoking user's init function\n",
            "2021-04-17 08:15:00,374 | azureml.core | WARNING | Failure while loading azureml_run_type_providers. Failed to load entrypoint automl = azureml.train.automl.run:AutoMLRun._from_run_dto with exception cannot import name 'RunType'.\n",
            "Failure while loading azureml_run_type_providers. Failed to load entrypoint automl = azureml.train.automl.run:AutoMLRun._from_run_dto with exception cannot import name 'RunType'.\n",
            "2021-04-17 08:15:01,005 | root | INFO | Users's init has completed successfully\n",
            "2021-04-17 08:15:01,014 | root | INFO | Skipping middleware: dbg_model_info as it's not enabled.\n",
            "2021-04-17 08:15:01,015 | root | INFO | Skipping middleware: dbg_resource_usage as it's not enabled.\n",
            "2021-04-17 08:15:01,018 | root | INFO | Scoring timeout is found from os.environ: 60000 ms\n",
            "2021-04-17 08:15:04,823 | root | INFO | Swagger file not present\n",
            "2021-04-17 08:15:04,823 | root | INFO | 404\n",
            "127.0.0.1 - - [17/Apr/2021:08:15:04 +0000] \"GET /swagger.json HTTP/1.0\" 404 19 \"-\" \"Go-http-client/1.1\"\n",
            "2021-04-17 08:15:07,181 | root | INFO | Swagger file not present\n",
            "2021-04-17 08:15:07,181 | root | INFO | 404\n",
            "127.0.0.1 - - [17/Apr/2021:08:15:07 +0000] \"GET /swagger.json HTTP/1.0\" 404 19 \"-\" \"Go-http-client/1.1\"\n",
            "2021-04-17 08:28:32,502 | root | INFO | Validation Request Content-Type\n",
            "2021-04-17 08:28:32,504 | root | INFO | Scoring Timer is set to 60.0 seconds\n",
            "2021-04-17 08:28:32,662 | root | INFO | 200\n",
            "127.0.0.1 - - [17/Apr/2021:08:28:32 +0000] \"POST /score HTTP/1.0\" 200 6 \"-\" \"python-requests/2.25.1\"\n",
            "\n",
            "Current provisioning state of AmlCompute is \"Deleting\"\n",
            "\n"
          ]
        }
      ],
      "execution_count": 14,
      "metadata": {
        "jupyter": {
          "outputs_hidden": false,
          "source_hidden": false
        },
        "nteract": {
          "transient": {
            "deleting": false
          }
        },
        "gather": {
          "logged": 1618648149789
        }
      }
    }
  ],
  "metadata": {
    "kernel_info": {
      "name": "python3"
    },
    "kernelspec": {
      "name": "python3",
      "language": "python",
      "display_name": "Python 3"
    },
    "language_info": {
      "name": "python",
      "version": "3.6.9",
      "mimetype": "text/x-python",
      "codemirror_mode": {
        "name": "ipython",
        "version": 3
      },
      "pygments_lexer": "ipython3",
      "nbconvert_exporter": "python",
      "file_extension": ".py"
    },
    "nteract": {
      "version": "nteract-front-end@1.0.0"
    }
  },
  "nbformat": 4,
  "nbformat_minor": 2
}